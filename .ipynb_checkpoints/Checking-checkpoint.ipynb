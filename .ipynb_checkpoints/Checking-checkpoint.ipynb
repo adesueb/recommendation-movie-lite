{
 "cells": [
  {
   "cell_type": "code",
   "execution_count": 1,
   "metadata": {},
   "outputs": [
    {
     "name": "stdout",
     "output_type": "stream",
     "text": [
      "[0, 162, 202, 255, 371, 434, 455, 479, 700, 781, 824, 839, 883, 964, 1137, 1193, 1239, 1256, 1429, 1433, 1436, 1506, 1512, 1567, 1589, 1599, 1619, 1716, 1756, 1758, 1774, 1777, 1781, 1790, 1795, 1813, 1819, 1833, 1836, 1838, 1839, 1847, 1853, 1855, 1872, 1876, 1877, 1879, 1910, 1912, 1927]\n"
     ]
    }
   ],
   "source": [
    "import tensorflow as tf\n",
    "from tensorflow import keras\n",
    "import numpy as np\n",
    "import pandas as pd\n",
    "import datetime\n",
    "\n",
    "def convertToTimemillis(date):\n",
    "    try:\n",
    "        d = datetime.datetime.strptime(date, \"%Y-%m-%d %H:%M:%S\").strftime('%s.%f')\n",
    "        return int(float(d)*1000)\n",
    "    except:\n",
    "        pass\n",
    "    return 0\n",
    "\n",
    "DATA_DIR = \"data\"\n",
    "recommandation_df = pd.read_csv('{}/normalizedata.csv'.format(DATA_DIR)).sort_values(by=['time'])\n",
    "\n",
    "levels = []\n",
    "\n",
    "MIN_CONTENTS_ON_USER = 600 \n",
    "\n",
    "levels.append([0, MIN_CONTENTS_ON_USER+1])\n",
    "\n",
    "contentLevels = recommandation_df['Content'].values\n",
    "for contentLevel in contentLevels:\n",
    "    add = True\n",
    "    indexLevel = 0\n",
    "    for key, level in levels:\n",
    "        if contentLevel == key:\n",
    "            add = False\n",
    "            levels[indexLevel] = ([key, level+1])\n",
    "            break\n",
    "        else:\n",
    "            indexLevel+=1\n",
    "    if add:\n",
    "        levels.append([contentLevel, 1])\n",
    "\n",
    "classContents = []\n",
    "for key, level in levels:\n",
    "    if level > MIN_CONTENTS_ON_USER:\n",
    "        classContents.append(key)\n",
    "        \n",
    "sortedClassContents = sorted(classContents)\n",
    "print(sortedClassContents)\n",
    "print(len(sortedClassContents))"
   ]
  },
  {
   "cell_type": "code",
   "execution_count": 2,
   "metadata": {},
   "outputs": [],
   "source": [
    "model = tf.keras.models.load_model('model')"
   ]
  },
  {
   "cell_type": "code",
   "execution_count": 3,
   "metadata": {},
   "outputs": [
    {
     "name": "stdout",
     "output_type": "stream",
     "text": [
      "WARNING:tensorflow:From <ipython-input-3-cd800b2eb54d>:1: Sequential.predict_classes (from tensorflow.python.keras.engine.sequential) is deprecated and will be removed after 2021-01-01.\n",
      "Instructions for updating:\n",
      "Please use instead:* `np.argmax(model.predict(x), axis=-1)`,   if your model does multi-class classification   (e.g. if it uses a `softmax` last-layer activation).* `(model.predict(x) > 0.5).astype(\"int32\")`,   if your model does binary classification   (e.g. if it uses a `sigmoid` last-layer activation).\n",
      "1912\n"
     ]
    }
   ],
   "source": [
    "predict = model.predict_classes([[0,0,0,sortedClassContents.index(1910)]])\n",
    "print(sortedClassContents[predict[0]])"
   ]
  },
  {
   "cell_type": "code",
   "execution_count": null,
   "metadata": {},
   "outputs": [],
   "source": []
  }
 ],
 "metadata": {
  "kernelspec": {
   "display_name": "Python 3",
   "language": "python",
   "name": "python3"
  },
  "language_info": {
   "codemirror_mode": {
    "name": "ipython",
    "version": 3
   },
   "file_extension": ".py",
   "mimetype": "text/x-python",
   "name": "python",
   "nbconvert_exporter": "python",
   "pygments_lexer": "ipython3",
   "version": "3.8.5"
  }
 },
 "nbformat": 4,
 "nbformat_minor": 4
}
