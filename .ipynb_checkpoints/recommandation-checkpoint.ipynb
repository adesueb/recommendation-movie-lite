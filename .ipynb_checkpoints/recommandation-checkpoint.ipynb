{
 "cells": [
  {
   "cell_type": "code",
   "execution_count": 1,
   "metadata": {},
   "outputs": [],
   "source": [
    "import numpy as np\n",
    "import tensorflow as tf\n",
    "import pandas as pd\n",
    "from tensorflow.keras.models import Sequential\n",
    "from tensorflow.keras.layers import Dense, Dropout, LSTM, Bidirectional,BatchNormalization, Activation, Embedding\n",
    "from tensorflow.keras.optimizers import Adam\n",
    "from tensorflow.keras.callbacks import TensorBoard\n",
    "from sklearn.preprocessing import MinMaxScaler\n",
    "import datetime\n",
    "import time\n",
    "import random\n",
    "import matplotlib.pyplot as plt"
   ]
  },
  {
   "cell_type": "code",
   "execution_count": 2,
   "metadata": {},
   "outputs": [],
   "source": [
    "MIN_CONTENTS_ON_USER = 250\n",
    "MAX_DAYS = 7\n",
    "MAX_SEQUENCE = 6\n",
    "DATA_DIR = \"data\"\n",
    "recommandation_df = pd.read_csv('{}/normalizedata.csv'.format(DATA_DIR)).sort_values(by=['time'])"
   ]
  },
  {
   "cell_type": "code",
   "execution_count": 3,
   "metadata": {},
   "outputs": [],
   "source": [
    "def convertToTimemillis(date):\n",
    "    try:\n",
    "        d = datetime.datetime.strptime(date, \"%Y-%m-%d %H:%M:%S\").strftime('%s.%f')\n",
    "        return int(float(d)*1000)\n",
    "    except:\n",
    "        pass\n",
    "    return 0\n",
    "\n",
    "def getSortedClass():\n",
    "    levels = []\n",
    "    levels.append([0, MIN_CONTENTS_ON_USER+1])\n",
    "    contentLevels = recommandation_df['Content'].values\n",
    "    for contentLevel in contentLevels:\n",
    "        add = True\n",
    "        indexLevel = 0\n",
    "        for key, level in levels:\n",
    "            if contentLevel == key:\n",
    "                add = False\n",
    "                levels[indexLevel] = ([key, level+1])\n",
    "                break\n",
    "            else:\n",
    "                indexLevel+=1\n",
    "        if add:\n",
    "            levels.append([contentLevel, 1])\n",
    "\n",
    "    classContents = []\n",
    "    for key, level in levels:\n",
    "        if level > MIN_CONTENTS_ON_USER:\n",
    "            classContents.append(key)\n",
    "            \n",
    "    sortedClassContents = sorted(classContents)\n",
    "    print(sortedClassContents)\n",
    "    return sortedClassContents\n",
    "\n",
    "def saveClassesToFile(classes):\n",
    "    label_file = open(\"label.txt\", \"w\")\n",
    "    np.savetxt(label_file, classes)\n",
    "    label_file.close()\n",
    "\n",
    "\n",
    "def checkingTimeDifferent(nowDate, beforeDate):\n",
    "    now = convertToTimemillis(nowDate)\n",
    "    before = convertToTimemillis(beforeDate)\n",
    "    return (now - before) >  (MAX_DAYS * 86400000)\n",
    "\n",
    "\n",
    "def buildFeature(paramsContents, sortedClassContents):\n",
    "    feature = []\n",
    "    for ignore in range(MAX_SEQUENCE-len(paramsContents)):\n",
    "        feature.append(0)\n",
    "    for content in paramsContents:\n",
    "        feature.append(sortedClassContents.index(content))\n",
    "        \n",
    "    return feature\n",
    "\n",
    "def checkConsists(item, contents):\n",
    "    next = False\n",
    "    for content in contents:\n",
    "        if(content == item):\n",
    "            next = True\n",
    "    return next\n",
    "\n",
    "\n",
    "def findTopDataSet(dataSet):\n",
    "    unique = []\n",
    "    for x, y in dataSet:\n",
    "        new = True\n",
    "        i = 0\n",
    "        for u, l in unique:\n",
    "            if u == x:\n",
    "                new = False\n",
    "                l.append(y)\n",
    "                unique[i] = [u, l]\n",
    "            i+=1\n",
    "        if new:\n",
    "            unique.append([x,[y]])\n",
    "    result = []\n",
    "    for x, y in unique:\n",
    "        scores = []\n",
    "        for i in y:\n",
    "            new = True\n",
    "            numbersIndex = 0\n",
    "            for z, score in scores:\n",
    "                if i == z:\n",
    "                    new = False\n",
    "                    scores[numbersIndex] = [i, score+1]\n",
    "                numbersIndex += 1\n",
    "            scores.append([i, 0])\n",
    "        maxY = 0\n",
    "        topY =  scores[0][0]\n",
    "        for n, score in scores:\n",
    "            if(score > maxY):\n",
    "                maxY = score\n",
    "                topY = n\n",
    "        result.append([x,topY])\n",
    "    return result"
   ]
  },
  {
   "cell_type": "code",
   "execution_count": 4,
   "metadata": {},
   "outputs": [
    {
     "name": "stdout",
     "output_type": "stream",
     "text": [
      "[0, 1, 15, 23, 39, 69, 79, 162, 169, 202, 205, 213, 252, 255, 306, 308, 312, 322, 369, 371, 379, 434, 448, 455, 478, 479, 480, 481, 492, 507, 513, 535, 548, 623, 626, 640, 644, 657, 682, 683, 697, 700, 752, 772, 776, 777, 781, 824, 832, 839, 883, 913, 936, 960, 964, 977, 989, 993, 1006, 1020, 1026, 1115, 1137, 1185, 1187, 1193, 1239, 1242, 1256, 1269, 1304, 1310, 1397, 1415, 1420, 1428, 1429, 1433, 1436, 1437, 1490, 1498, 1506, 1512, 1521, 1534, 1554, 1559, 1567, 1578, 1579, 1589, 1591, 1599, 1602, 1606, 1607, 1609, 1619, 1620, 1624, 1641, 1652, 1659, 1677, 1700, 1716, 1719, 1756, 1758, 1774, 1777, 1781, 1788, 1790, 1791, 1795, 1798, 1806, 1807, 1813, 1819, 1823, 1826, 1830, 1833, 1834, 1836, 1838, 1839, 1840, 1845, 1847, 1853, 1855, 1862, 1863, 1872, 1873, 1876, 1877, 1879, 1885, 1896, 1910, 1912, 1913, 1927, 1928, 1935, 1936]\n",
      "151\n"
     ]
    }
   ],
   "source": [
    "sortedClassContents = getSortedClass()\n",
    "saveClassesToFile(sortedClassContents)\n",
    "lenSortedClassContents = len(sortedClassContents)\n",
    "print(lenSortedClassContents)"
   ]
  },
  {
   "cell_type": "code",
   "execution_count": 5,
   "metadata": {},
   "outputs": [
    {
     "name": "stdout",
     "output_type": "stream",
     "text": [
      "training size:  8940\n"
     ]
    }
   ],
   "source": [
    "visitors_df = recommandation_df['visitor'].drop_duplicates()\n",
    "maxItem = recommandation_df['Content'].max()\n",
    "training_data = []\n",
    "for index, item in visitors_df.iteritems():\n",
    "    video = recommandation_df[recommandation_df['visitor'] == item]\n",
    "    if video.size > 1:\n",
    "        tempContents = []\n",
    "        indexContent = 0\n",
    "        for index, item in video['Content'].iteritems():\n",
    "            if(item not in sortedClassContents):\n",
    "                continue\n",
    "            if len(tempContents) > MAX_SEQUENCE: \n",
    "                tempContents = tempContents[1:]\n",
    "                continue\n",
    "            if(checkConsists(item, tempContents)):\n",
    "                continue\n",
    "            if len(tempContents) > 0:\n",
    "                nowDate = video['time'].iloc[indexContent]\n",
    "                beforeDate = video['time'].iloc[indexContent-1]\n",
    "                \n",
    "                if checkingTimeDifferent(nowDate, beforeDate):\n",
    "                    tempContents = []\n",
    "                else:\n",
    "                    feature = buildFeature(tempContents, sortedClassContents)\n",
    "                    label = sortedClassContents.index(item)\n",
    "                    training_data.append([[feature], label])\n",
    "            tempContents.append(item)\n",
    "            indexContent += 1\n",
    "\n",
    "training_data = findTopDataSet(training_data)\n",
    "print(\"training size: \", len(training_data))\n",
    "\n",
    "random.shuffle(training_data)"
   ]
  },
  {
   "cell_type": "code",
   "execution_count": 6,
   "metadata": {},
   "outputs": [],
   "source": [
    "features = []\n",
    "labels = []\n",
    "for feature, label in training_data:\n",
    "    features.append(feature)\n",
    "    labels.append(label)"
   ]
  },
  {
   "cell_type": "code",
   "execution_count": 7,
   "metadata": {},
   "outputs": [],
   "source": [
    "X = np.array(features)\n",
    "Y = np.array(labels).astype(np.float32)\n",
    "X = np.squeeze(X, axis=1)"
   ]
  },
  {
   "cell_type": "code",
   "execution_count": 38,
   "metadata": {},
   "outputs": [],
   "source": [
    "name = \"testing-1\"\n",
    "tensorboard = TensorBoard(log_dir='logs/{}'.format(name))\n",
    "model = Sequential()\n",
    "model.add(Embedding(lenSortedClassContents, 128, input_length=MAX_SEQUENCE))\n",
    "model.add(LSTM(128, return_sequences=True))\n",
    "model.add(LSTM(128))\n",
    "model.add(Dense(lenSortedClassContents, activation='softmax'))\n",
    "\n",
    "    \n"
   ]
  },
  {
   "cell_type": "code",
   "execution_count": 39,
   "metadata": {},
   "outputs": [
    {
     "name": "stdout",
     "output_type": "stream",
     "text": [
      "Epoch 1/48\n",
      "  2/280 [..............................] - ETA: 12s - loss: 5.0140 - accuracy: 0.0469   WARNING:tensorflow:Callbacks method `on_train_batch_end` is slow compared to the batch time (batch time: 0.0065s vs `on_train_batch_end` time: 0.0829s). Check your callbacks.\n"
     ]
    },
    {
     "name": "stderr",
     "output_type": "stream",
     "text": [
      "WARNING:tensorflow:Callbacks method `on_train_batch_end` is slow compared to the batch time (batch time: 0.0065s vs `on_train_batch_end` time: 0.0829s). Check your callbacks.\n"
     ]
    },
    {
     "name": "stdout",
     "output_type": "stream",
     "text": [
      "280/280 [==============================] - 1s 5ms/step - loss: 4.5412 - accuracy: 0.0350\n",
      "Epoch 2/48\n",
      "280/280 [==============================] - 1s 4ms/step - loss: 4.2874 - accuracy: 0.0444\n",
      "Epoch 3/48\n",
      "280/280 [==============================] - 1s 4ms/step - loss: 4.1770 - accuracy: 0.0585\n",
      "Epoch 4/48\n",
      "280/280 [==============================] - 1s 4ms/step - loss: 4.0664 - accuracy: 0.0744\n",
      "Epoch 5/48\n",
      "280/280 [==============================] - 1s 4ms/step - loss: 3.9550 - accuracy: 0.0894\n",
      "Epoch 6/48\n",
      "280/280 [==============================] - 1s 4ms/step - loss: 3.8413 - accuracy: 0.1045\n",
      "Epoch 7/48\n",
      "280/280 [==============================] - 1s 4ms/step - loss: 3.7092 - accuracy: 0.1195\n",
      "Epoch 8/48\n",
      "280/280 [==============================] - 1s 4ms/step - loss: 3.5789 - accuracy: 0.1504\n",
      "Epoch 9/48\n",
      "280/280 [==============================] - 1s 4ms/step - loss: 3.4303 - accuracy: 0.1695\n",
      "Epoch 10/48\n",
      "280/280 [==============================] - 1s 4ms/step - loss: 3.2807 - accuracy: 0.1960\n",
      "Epoch 11/48\n",
      "280/280 [==============================] - 1s 4ms/step - loss: 3.1080 - accuracy: 0.2314\n",
      "Epoch 12/48\n",
      "280/280 [==============================] - 1s 4ms/step - loss: 2.9085 - accuracy: 0.2729\n",
      "Epoch 13/48\n",
      "280/280 [==============================] - 1s 4ms/step - loss: 2.7390 - accuracy: 0.3085\n",
      "Epoch 14/48\n",
      "280/280 [==============================] - 1s 4ms/step - loss: 2.6025 - accuracy: 0.3358\n",
      "Epoch 15/48\n",
      "280/280 [==============================] - 1s 4ms/step - loss: 2.4190 - accuracy: 0.3752\n",
      "Epoch 16/48\n",
      "280/280 [==============================] - 1s 4ms/step - loss: 2.2404 - accuracy: 0.4117\n",
      "Epoch 17/48\n",
      "280/280 [==============================] - 1s 4ms/step - loss: 2.0850 - accuracy: 0.4601\n",
      "Epoch 18/48\n",
      "280/280 [==============================] - 1s 4ms/step - loss: 1.9656 - accuracy: 0.4787\n",
      "Epoch 19/48\n",
      "280/280 [==============================] - 1s 4ms/step - loss: 1.8505 - accuracy: 0.5072\n",
      "Epoch 20/48\n",
      "280/280 [==============================] - 1s 4ms/step - loss: 1.7416 - accuracy: 0.5389\n",
      "Epoch 21/48\n",
      "280/280 [==============================] - 1s 4ms/step - loss: 1.5714 - accuracy: 0.5786\n",
      "Epoch 22/48\n",
      "280/280 [==============================] - 1s 4ms/step - loss: 1.4425 - accuracy: 0.6142\n",
      "Epoch 23/48\n",
      "280/280 [==============================] - 1s 5ms/step - loss: 1.4336 - accuracy: 0.6088\n",
      "Epoch 24/48\n",
      "280/280 [==============================] - 1s 5ms/step - loss: 1.4129 - accuracy: 0.6124\n",
      "Epoch 25/48\n",
      "280/280 [==============================] - 1s 4ms/step - loss: 1.4089 - accuracy: 0.6157\n",
      "Epoch 26/48\n",
      "280/280 [==============================] - 1s 4ms/step - loss: 1.4091 - accuracy: 0.6114\n",
      "Epoch 27/48\n",
      "280/280 [==============================] - 1s 4ms/step - loss: 1.3589 - accuracy: 0.6208\n",
      "Epoch 28/48\n",
      "280/280 [==============================] - 1s 4ms/step - loss: 1.3075 - accuracy: 0.6299\n",
      "Epoch 29/48\n",
      "280/280 [==============================] - 1s 4ms/step - loss: 1.2498 - accuracy: 0.6517\n",
      "Epoch 30/48\n",
      "280/280 [==============================] - 1s 4ms/step - loss: 1.2081 - accuracy: 0.6613\n",
      "Epoch 31/48\n",
      "280/280 [==============================] - 1s 4ms/step - loss: 1.1361 - accuracy: 0.6802\n",
      "Epoch 32/48\n",
      "280/280 [==============================] - 1s 4ms/step - loss: 1.1092 - accuracy: 0.6928\n",
      "Epoch 33/48\n",
      "280/280 [==============================] - 1s 4ms/step - loss: 1.1740 - accuracy: 0.6694\n",
      "Epoch 34/48\n",
      "280/280 [==============================] - 1s 4ms/step - loss: 1.2512 - accuracy: 0.6498\n",
      "Epoch 35/48\n",
      "280/280 [==============================] - 1s 5ms/step - loss: 1.1229 - accuracy: 0.6815\n",
      "Epoch 36/48\n",
      "280/280 [==============================] - 1s 4ms/step - loss: 1.0436 - accuracy: 0.7013\n",
      "Epoch 37/48\n",
      "280/280 [==============================] - 1s 4ms/step - loss: 0.9172 - accuracy: 0.7417\n",
      "Epoch 38/48\n",
      "280/280 [==============================] - 1s 4ms/step - loss: 0.8643 - accuracy: 0.7525\n",
      "Epoch 39/48\n",
      "280/280 [==============================] - 1s 4ms/step - loss: 0.8183 - accuracy: 0.7689\n",
      "Epoch 40/48\n",
      "280/280 [==============================] - 2s 6ms/step - loss: 0.8481 - accuracy: 0.7596\n",
      "Epoch 41/48\n",
      "280/280 [==============================] - 1s 5ms/step - loss: 0.9215 - accuracy: 0.7376\n",
      "Epoch 42/48\n",
      "280/280 [==============================] - 1s 5ms/step - loss: 0.8781 - accuracy: 0.7459\n",
      "Epoch 43/48\n",
      "280/280 [==============================] - 1s 5ms/step - loss: 0.9480 - accuracy: 0.7279\n",
      "Epoch 44/48\n",
      "280/280 [==============================] - 1s 5ms/step - loss: 0.8854 - accuracy: 0.7507\n",
      "Epoch 45/48\n",
      "280/280 [==============================] - 1s 5ms/step - loss: 0.8158 - accuracy: 0.7563\n",
      "Epoch 46/48\n",
      "280/280 [==============================] - 1s 5ms/step - loss: 0.7625 - accuracy: 0.7813\n",
      "Epoch 47/48\n",
      "280/280 [==============================] - 1s 4ms/step - loss: 0.7623 - accuracy: 0.7786\n",
      "Epoch 48/48\n",
      "280/280 [==============================] - 1s 5ms/step - loss: 0.7491 - accuracy: 0.7839\n"
     ]
    }
   ],
   "source": [
    "adam = Adam(lr=0.01)\n",
    "model.compile(loss='sparse_categorical_crossentropy', optimizer=adam, metrics=['accuracy'])\n",
    "history = model.fit(X, Y, epochs=61, batch_size=32, verbose=1, callbacks=[tensorboard])"
   ]
  },
  {
   "cell_type": "code",
   "execution_count": 10,
   "metadata": {},
   "outputs": [],
   "source": [
    "def plot_graphs(history, string):\n",
    "  plt.plot(history.history[string])\n",
    "  plt.xlabel(\"Epochs\")\n",
    "  plt.ylabel(string)\n",
    "  plt.show()"
   ]
  },
  {
   "cell_type": "code",
   "execution_count": 11,
   "metadata": {},
   "outputs": [
    {
     "data": {
      "image/png": "[encoded data removed]",
      "text/plain": [
       "<Figure size 432x288 with 1 Axes>"
      ]
     },
     "metadata": {
      "needs_background": "light"
     },
     "output_type": "display_data"
    }
   ],
   "source": [
    "plot_graphs(history, 'accuracy')\n"
   ]
  },
  {
   "cell_type": "code",
   "execution_count": 12,
   "metadata": {},
   "outputs": [
    {
     "data": {
      "image/png": "[encoded data removed]",
      "text/plain": [
       "<Figure size 432x288 with 1 Axes>"
      ]
     },
     "metadata": {
      "needs_background": "light"
     },
     "output_type": "display_data"
    }
   ],
   "source": [
    "plot_graphs(history, 'loss')"
   ]
  },
  {
   "cell_type": "code",
   "execution_count": null,
   "metadata": {},
   "outputs": [],
   "source": [
    "plot_graphs(history, 'val_loss')"
   ]
  },
  {
   "cell_type": "code",
   "execution_count": null,
   "metadata": {},
   "outputs": [],
   "source": [
    "plot_graphs(history, 'val_accuracy')"
   ]
  },
  {
   "cell_type": "code",
   "execution_count": 24,
   "metadata": {},
   "outputs": [],
   "source": [
    "def predict(first, second, third, forth, fifth, sixth):\n",
    "    predict = model.predict([[sortedClassContents.index(first),sortedClassContents.index(second),sortedClassContents.index(third),sortedClassContents.index(forth), sortedClassContents.index(fifth),sortedClassContents.index(sixth)]])\n",
    "    return sortedClassContents[np.argmax(predict[0])]"
   ]
  },
  {
   "cell_type": "code",
   "execution_count": 35,
   "metadata": {},
   "outputs": [
    {
     "name": "stdout",
     "output_type": "stream",
     "text": [
      "1591\n"
     ]
    }
   ],
   "source": [
    "predictResult = predict(0,0,0,0,1498,39)\n",
    "print(predictResult)"
   ]
  },
  {
   "cell_type": "code",
   "execution_count": 29,
   "metadata": {},
   "outputs": [
    {
     "name": "stdout",
     "output_type": "stream",
     "text": [
      "WARNING:tensorflow:Model was constructed with shape (None, 6) for input Tensor(\"embedding_input:0\", shape=(None, 6), dtype=float32), but it was called on an input with incompatible shape (1, 4).\n",
      "WARNING:tensorflow:From /home/ade/.local/lib/python3.8/site-packages/tensorflow/python/training/tracking/tracking.py:111: Model.state_updates (from tensorflow.python.keras.engine.training) is deprecated and will be removed in a future version.\n",
      "Instructions for updating:\n",
      "This property should not be used in TensorFlow 2.0, as updates are applied automatically.\n",
      "WARNING:tensorflow:From /home/ade/.local/lib/python3.8/site-packages/tensorflow/python/training/tracking/tracking.py:111: Layer.updates (from tensorflow.python.keras.engine.base_layer) is deprecated and will be removed in a future version.\n",
      "Instructions for updating:\n",
      "This property should not be used in TensorFlow 2.0, as updates are applied automatically.\n",
      "INFO:tensorflow:Assets written to: model/assets\n"
     ]
    }
   ],
   "source": [
    "run_model = tf.function(lambda x: model(x))\n",
    "# This is important, let's fix the input size.\n",
    "BATCH_SIZE = 1\n",
    "STEPS = 100\n",
    "INPUT_SIZE = MAX_SEQUENCE\n",
    "concrete_func = run_model.get_concrete_function(\n",
    "    tf.TensorSpec([1,4], model.inputs[0].dtype))\n",
    "\n",
    "# model directory.\n",
    "MODEL_DIR = \"model\"\n",
    "model.save(MODEL_DIR, save_format=\"tf\", signatures=concrete_func)\n",
    "\n",
    "converter = tf.lite.TFLiteConverter.from_saved_model(MODEL_DIR)\n",
    "tflite_model = converter.convert()"
   ]
  },
  {
   "cell_type": "code",
   "execution_count": null,
   "metadata": {},
   "outputs": [],
   "source": [
    "# Run the model with TensorFlow to get expected results.\n",
    "TEST_CASES = 10\n",
    "\n",
    "# Run the model with TensorFlow Lite\n",
    "interpreter = tf.lite.Interpreter(model_content=tflite_model)\n",
    "interpreter.allocate_tensors()\n",
    "input_details = interpreter.get_input_details()\n",
    "output_details = interpreter.get_output_details()\n",
    "print(input_details)\n",
    "print(output_details)\n",
    "print(input_details[0][\"index\"])\n",
    "for i in range(TEST_CASES):\n",
    "  expected = model.predict([[0,0,0,i]])\n",
    "  interpreter.set_tensor( input_details[0][\"index\"], np.array([[0,0,0,i]]).astype(np.float32))\n",
    "  interpreter.invoke()\n",
    "  result = interpreter.get_tensor(output_details[0][\"index\"])\n",
    "\n",
    "  # Assert if the result of TFLite model is consistent with the TF model.\n",
    "  np.testing.assert_almost_equal(expected, result)\n",
    "  print(\"Done. The result of TensorFlow matches the result of TensorFlow Lite.\")\n",
    "\n",
    "  # Please note: TfLite fused Lstm kernel is stateful, so we need to reset\n",
    "  # the states.\n",
    "  # Clean up internal states.\n",
    "  interpreter.reset_all_variables()\n"
   ]
  },
  {
   "cell_type": "markdown",
   "metadata": {},
   "source": []
  },
  {
   "cell_type": "code",
   "execution_count": 30,
   "metadata": {},
   "outputs": [
    {
     "data": {
      "text/plain": [
       "4456272"
      ]
     },
     "execution_count": 30,
     "metadata": {},
     "output_type": "execute_result"
    }
   ],
   "source": [
    "open(\"converted_model.tflite\", \"wb\").write(tflite_model)"
   ]
  },
  {
   "cell_type": "code",
   "execution_count": null,
   "metadata": {},
   "outputs": [],
   "source": [
    "interpreter.set_tensor( input_details[0][\"index\"], np.array([[0,0,0,sortedClassContents.index(700)]]).astype(np.float32))\n",
    "interpreter.invoke()\n",
    "result = interpreter.get_tensor(output_details[0][\"index\"])\n",
    "print(sortedClassContents[np.argmax(result)])"
   ]
  }
 ],
 "metadata": {
  "kernelspec": {
   "display_name": "Python 3",
   "language": "python",
   "name": "python3"
  },
  "language_info": {
   "codemirror_mode": {
    "name": "ipython",
    "version": 3
   },
   "file_extension": ".py",
   "mimetype": "text/x-python",
   "name": "python",
   "nbconvert_exporter": "python",
   "pygments_lexer": "ipython3",
   "version": "3.8.5"
  }
 },
 "nbformat": 4,
 "nbformat_minor": 4
}
