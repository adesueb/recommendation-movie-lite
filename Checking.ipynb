{
 "cells": [
  {
   "cell_type": "code",
   "execution_count": null,
   "metadata": {},
   "outputs": [],
   "source": [
    "import tensorflow as tf\n",
    "from tensorflow import keras\n",
    "import numpy as np\n",
    "import pandas as pd\n",
    "import datetime\n",
    "\n",
    "def convertToTimemillis(date):\n",
    "    try:\n",
    "        d = datetime.datetime.strptime(date, \"%Y-%m-%d %H:%M:%S\").strftime('%s.%f')\n",
    "        return int(float(d)*1000)\n",
    "    except:\n",
    "        pass\n",
    "    return 0\n",
    "\n",
    "DATA_DIR = \"data\"\n",
    "recommandation_df = pd.read_csv('{}/normalizedata.csv'.format(DATA_DIR)).sort_values(by=['time'])\n",
    "\n",
    "levels = []\n",
    "\n",
    "MIN_CONTENTS_ON_USER = 250 \n",
    "\n",
    "levels.append([0, MIN_CONTENTS_ON_USER+1])\n",
    "\n",
    "contentLevels = recommandation_df['Content'].values\n",
    "for contentLevel in contentLevels:\n",
    "    add = True\n",
    "    indexLevel = 0\n",
    "    for key, level in levels:\n",
    "        if contentLevel == key:\n",
    "            add = False\n",
    "            levels[indexLevel] = ([key, level+1])\n",
    "            break\n",
    "        else:\n",
    "            indexLevel+=1\n",
    "    if add:\n",
    "        levels.append([contentLevel, 1])\n",
    "\n",
    "classContents = []\n",
    "for key, level in levels:\n",
    "    if level > MIN_CONTENTS_ON_USER:\n",
    "        classContents.append(key)\n",
    "        \n",
    "sortedClassContents = sorted(classContents)\n",
    "print(sortedClassContents)\n",
    "print(len(sortedClassContents))\n",
    "# 1876"
   ]
  },
  {
   "cell_type": "code",
   "execution_count": null,
   "metadata": {},
   "outputs": [],
   "source": [
    "model = tf.keras.models.load_model('model')"
   ]
  },
  {
   "cell_type": "code",
   "execution_count": null,
   "metadata": {},
   "outputs": [],
   "source": [
    "def predict(first, second, third, forth, fifth, sixth):\n",
    "    predict = model.predict([[sortedClassContents.index(first),sortedClassContents.index(second),sortedClassContents.index(third),sortedClassContents.index(forth), sortedClassContents.index(fifth),sortedClassContents.index(sixth)]])\n",
    "    return sortedClassContents[np.argmax(predict[0])]"
   ]
  },
  {
   "cell_type": "code",
   "execution_count": null,
   "metadata": {},
   "outputs": [],
   "source": [
    "predictResult = predict(0,0,0,0,0,1876)\n",
    "print(predictResult)"
   ]
  },
  {
   "cell_type": "code",
   "execution_count": null,
   "metadata": {},
   "outputs": [],
   "source": []
  }
 ],
 "metadata": {
  "kernelspec": {
   "display_name": "Python 3",
   "language": "python",
   "name": "python3"
  },
  "language_info": {
   "codemirror_mode": {
    "name": "ipython",
    "version": 3
   },
   "file_extension": ".py",
   "mimetype": "text/x-python",
   "name": "python",
   "nbconvert_exporter": "python",
   "pygments_lexer": "ipython3",
   "version": "3.8.5"
  }
 },
 "nbformat": 4,
 "nbformat_minor": 4
}
