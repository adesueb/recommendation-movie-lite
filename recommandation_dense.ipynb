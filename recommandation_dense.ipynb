{
 "cells": [
  {
   "cell_type": "code",
   "execution_count": 1,
   "metadata": {},
   "outputs": [
    {
     "name": "stdout",
     "output_type": "stream",
     "text": [
      "[[[[0, 0, 2]], 4], [[[0, 0, 1]], 1], [[[0, 0, 3]], 5], [[[0, 0, 4]], 7], [[[0, 3, 1]], 3]]\n"
     ]
    }
   ],
   "source": [
    "import random\n",
    "\n",
    "import numpy as np\n",
    "import pandas as pd\n",
    "import tensorflow as tf\n",
    "from tensorflow.keras.layers import Dense, LSTM, Bidirectional, Activation, Embedding, Conv1D, Flatten\n",
    "from tensorflow.keras.models import Sequential\n",
    "from tensorflow.keras.optimizers import Adam\n",
    "from tensorflow.keras.callbacks import TensorBoard\n",
    "import matplotlib.pyplot as plt\n",
    "from datetime import datetime\n",
    "\n",
    "\n",
    "from dataprocessing.find_top_movie_with_sequence import find_top_dataset\n",
    "from dataprocessing.label_and_feature import getSortedClassContents, checkConsists, buildFeature, saveClassesToFile\n",
    "from dataprocessing.time import checkingTimeDifferent\n",
    "from recom_model import trainWithBidirectional,trainWithEmbeddingDense"
   ]
  },
  {
   "cell_type": "code",
   "execution_count": 2,
   "metadata": {},
   "outputs": [],
   "source": [
    "MIN_CONTENTS_ON_USER = 250\n",
    "MAX_DAYS = 7\n",
    "MAX_SEQUENCE = 1\n",
    "DATA_DIR = \"data\"\n",
    "\n",
    "recommandation_df = pd.read_csv('{}/data.csv'.format(DATA_DIR)).sort_values(by=['time'])"
   ]
  },
  {
   "cell_type": "code",
   "execution_count": 3,
   "metadata": {},
   "outputs": [
    {
     "name": "stdout",
     "output_type": "stream",
     "text": [
      "[0, 1, 11, 12, 15, 16, 17, 20, 22, 23, 26, 29, 30, 39, 41, 49, 51, 54, 55, 61, 65, 66, 67, 68, 69, 79, 84, 87, 91, 95, 97, 101, 102, 104, 106, 107, 108, 115, 117, 121, 123, 125, 126, 128, 131, 133, 135, 138, 139, 140, 141, 143, 147, 148, 158, 161, 162, 163, 167, 169, 172, 175, 176, 181, 186, 188, 194, 195, 199, 202, 205, 206, 207, 208, 211, 213, 224, 225, 226, 227, 228, 231, 232, 238, 245, 247, 250, 251, 252, 255, 259, 263, 264, 268, 270, 271, 278, 280, 284, 285, 286, 287, 288, 294, 296, 299, 300, 302, 303, 306, 308, 312, 314, 315, 322, 329, 331, 332, 333, 334, 338, 343, 345, 347, 348, 350, 351, 355, 358, 361, 369, 370, 371, 372, 376, 379, 388, 389, 390, 397, 410, 415, 416, 421, 422, 423, 425, 426, 433, 434, 438, 440, 441, 448, 449, 452, 455, 460, 475, 478, 479, 480, 481, 482, 484, 485, 487, 492, 507, 512, 513, 514, 522, 535, 541, 542, 548, 593, 596, 598, 621, 622, 623, 624, 626, 627, 631, 634, 640, 642, 644, 649, 652, 654, 655, 657, 659, 662, 663, 665, 667, 678, 681, 682, 683, 684, 695, 697, 700, 706, 710, 712, 713, 727, 730, 736, 739, 748, 749, 750, 751, 752, 753, 758, 763, 764, 765, 768, 772, 773, 774, 775, 776, 777, 778, 781, 814, 816, 820, 824, 829, 831, 832, 839, 844, 845, 853, 856, 857, 858, 873, 874, 875, 876, 881, 882, 883, 887, 892, 893, 895, 897, 898, 900, 903, 907, 911, 912, 913, 917, 919, 922, 926, 931, 932, 933, 936, 938, 943, 952, 953, 960, 963, 964, 965, 971, 972, 974, 977, 979, 986, 987, 988, 989, 990, 991, 992, 993, 994, 995, 997, 998, 999, 1001, 1003, 1004, 1006, 1008, 1010, 1011, 1014, 1018, 1019, 1020, 1025, 1026, 1027, 1029, 1030, 1031, 1033, 1034, 1069, 1078, 1079, 1081, 1082, 1083, 1086, 1087, 1091, 1097, 1108, 1111, 1115, 1117, 1118, 1124, 1125, 1126, 1127, 1129, 1130, 1131, 1132, 1133, 1134, 1136, 1137, 1173, 1174, 1175, 1178, 1180, 1185, 1186, 1187, 1188, 1190, 1192, 1193, 1195, 1203, 1229, 1230, 1233, 1236, 1238, 1239, 1240, 1242, 1245, 1254, 1256, 1257, 1259, 1263, 1269, 1272, 1273, 1275, 1283, 1284, 1285, 1287, 1294, 1298, 1299, 1304, 1310, 1311, 1314, 1318, 1319, 1322, 1359, 1363, 1368, 1369, 1371, 1376, 1381, 1383, 1385, 1388, 1394, 1395, 1396, 1397, 1400, 1404, 1405, 1407, 1414, 1415, 1418, 1420, 1421, 1425, 1426, 1427, 1428, 1429, 1430, 1431, 1432, 1433, 1434, 1435, 1436, 1437, 1470, 1474, 1479, 1485, 1486, 1489, 1490, 1492, 1496, 1497, 1498, 1501, 1504, 1506, 1507, 1511, 1512, 1514, 1515, 1516, 1517, 1518, 1519, 1520, 1521, 1523, 1526, 1527, 1531, 1532, 1534, 1535, 1536, 1537, 1546, 1551, 1553, 1554, 1555, 1556, 1557, 1558, 1559, 1560, 1561, 1562, 1563, 1565, 1567, 1569, 1572, 1574, 1575, 1576, 1578, 1579, 1582, 1583, 1584, 1587, 1589, 1590, 1591, 1594, 1596, 1598, 1599, 1600, 1602, 1603, 1604, 1605, 1606, 1607, 1609, 1611, 1612, 1613, 1614, 1615, 1617, 1618, 1619, 1620, 1621, 1622, 1623, 1624, 1626, 1629, 1630, 1633, 1634, 1636, 1637, 1638, 1639, 1641, 1642, 1643, 1644, 1647, 1648, 1649, 1651, 1652, 1654, 1655, 1656, 1658, 1659, 1661, 1662, 1663, 1664, 1665, 1666, 1667, 1668, 1669, 1670, 1671, 1672, 1673, 1674, 1676, 1677, 1678, 1679, 1682, 1683, 1686, 1687, 1688, 1690, 1691, 1692, 1694, 1696, 1697, 1698, 1699, 1700, 1701, 1703, 1704, 1707, 1710, 1712, 1713, 1715, 1716, 1717, 1718, 1719, 1720, 1721, 1723, 1724, 1725, 1727, 1728, 1729, 1730, 1732, 1734, 1735, 1738, 1739, 1740, 1744, 1745, 1746, 1749, 1750, 1751, 1752, 1755, 1756, 1757, 1758, 1759, 1760, 1763, 1765, 1766, 1767, 1768, 1769, 1770, 1771, 1772, 1773, 1774, 1776, 1777, 1778, 1781, 1782, 1783, 1786, 1788, 1790, 1791, 1792, 1793, 1795, 1798, 1802, 1806, 1807, 1808, 1809, 1810, 1812, 1813, 1818, 1819, 1820, 1823, 1824, 1826, 1827, 1829, 1830, 1833, 1834, 1836, 1838, 1839, 1840, 1842, 1845, 1846, 1847, 1849, 1851, 1852, 1853, 1854, 1855, 1856, 1858, 1859, 1862, 1863, 1866, 1867, 1868, 1871, 1872, 1873, 1876, 1877, 1879, 1885, 1896, 1910, 1912, 1913, 1927, 1928, 1935, 1936]\n",
      "695\n"
     ]
    }
   ],
   "source": [
    "sortedClassContents = getSortedClassContents(recommandation_df, MIN_CONTENTS_ON_USER)\n",
    "saveClassesToFile(sortedClassContents)\n",
    "lenSortedClassContents = len(sortedClassContents)\n",
    "print(lenSortedClassContents)"
   ]
  },
  {
   "cell_type": "code",
   "execution_count": 4,
   "metadata": {},
   "outputs": [],
   "source": [
    "def build_training_data(data_frame):\n",
    "    # datetime object containing current date and time\n",
    "    now = datetime.now()\n",
    "\n",
    "    print(\"start =\", now)\n",
    "\n",
    "    visitors_df = data_frame['visitor'].drop_duplicates()\n",
    "    maxItem = data_frame['Content'].max()\n",
    "    training_data = []\n",
    "    for index, item in visitors_df.iteritems():\n",
    "        video = data_frame[data_frame['visitor'] == item]\n",
    "        if video.size > 1:\n",
    "            tempContents = []\n",
    "            indexContent = 0\n",
    "            for index, item in video['Content'].iteritems():\n",
    "                if item not in sortedClassContents:\n",
    "                    continue\n",
    "                if len(tempContents) > MAX_SEQUENCE:\n",
    "                    tempContents = tempContents[1:]\n",
    "                    continue\n",
    "                if checkConsists(item, tempContents):\n",
    "                    continue\n",
    "                if len(tempContents) > 0:\n",
    "                    feature = buildFeature(tempContents, sortedClassContents, MAX_SEQUENCE)\n",
    "                    label = sortedClassContents.index(item)\n",
    "                    training_data.append([[feature], label])\n",
    "                tempContents.append(item)\n",
    "                indexContent += 1\n",
    "\n",
    "    now = datetime.now()\n",
    "    print(\"end =\", now)\n",
    "    return training_data"
   ]
  },
  {
   "cell_type": "code",
   "execution_count": 5,
   "metadata": {},
   "outputs": [
    {
     "name": "stdout",
     "output_type": "stream",
     "text": [
      "start = 2020-11-15 20:05:24.959407\n",
      "end = 2020-11-15 20:34:30.132987\n"
     ]
    }
   ],
   "source": [
    "data1 = pd.read_csv('{}/data1.csv'.format(DATA_DIR)).sort_values(by=['time'])\n",
    "training_data = build_training_data(data1)"
   ]
  },
  {
   "cell_type": "code",
   "execution_count": 6,
   "metadata": {},
   "outputs": [
    {
     "name": "stdout",
     "output_type": "stream",
     "text": [
      "start = 2020-11-15 20:36:07.420930\n",
      "end = 2020-11-15 21:23:09.738373\n"
     ]
    }
   ],
   "source": [
    "data2 = pd.read_csv('{}/data2.csv'.format(DATA_DIR)).sort_values(by=['time'])\n",
    "training_data = np.concatenate((training_data, build_training_data(data2)))"
   ]
  },
  {
   "cell_type": "code",
   "execution_count": 12,
   "metadata": {},
   "outputs": [],
   "source": [
    "def saveDatas(datas):\n",
    "    features = []\n",
    "    labels = []\n",
    "    for feature, label in datas:\n",
    "        features.append(feature)\n",
    "        labels.append(label)\n",
    "\n",
    "    a_file = open('{}/backup_features.txt'.format(DATA_DIR), \"w\")\n",
    "    for row in features:\n",
    "        np.savetxt(a_file, row[0])\n",
    "    a_file.close()\n",
    "\n",
    "    a_file = open('{}/backup_labels.txt'.format(DATA_DIR), \"w\")\n",
    "    np.savetxt(a_file, labels)\n",
    "    a_file.close()"
   ]
  },
  {
   "cell_type": "code",
   "execution_count": 11,
   "metadata": {},
   "outputs": [],
   "source": [
    "saveDatas(training_data)"
   ]
  },
  {
   "cell_type": "code",
   "execution_count": 13,
   "metadata": {},
   "outputs": [
    {
     "name": "stdout",
     "output_type": "stream",
     "text": [
      "{}.before 76435\n",
      "start = 2020-11-15 21:28:37.896403\n",
      "end = 2020-11-15 22:01:24.047751\n",
      "112152\n"
     ]
    }
   ],
   "source": [
    "print('{}.before', len(training_data))\n",
    "data3 = pd.read_csv('{}/data3.csv'.format(DATA_DIR)).sort_values(by=['time'])\n",
    "training_data = np.concatenate((training_data, build_training_data(data3)))\n",
    "print(len(training_data))\n",
    "saveDatas(training_data)"
   ]
  },
  {
   "cell_type": "code",
   "execution_count": 14,
   "metadata": {},
   "outputs": [
    {
     "name": "stdout",
     "output_type": "stream",
     "text": [
      "start = 2020-11-15 22:01:26.632021\n",
      "end = 2020-11-15 22:14:30.261465\n",
      "137968\n"
     ]
    }
   ],
   "source": [
    "data4 = pd.read_csv('{}/data4.csv'.format(DATA_DIR)).sort_values(by=['time'])\n",
    "training_data = np.concatenate((training_data, build_training_data(data4)))\n",
    "print(len(training_data))\n",
    "saveDatas(training_data)"
   ]
  },
  {
   "cell_type": "code",
   "execution_count": 15,
   "metadata": {},
   "outputs": [
    {
     "name": "stdout",
     "output_type": "stream",
     "text": [
      "start = 2020-11-15 22:14:33.465007\n",
      "end = 2020-11-15 22:31:09.661152\n",
      "165410\n"
     ]
    }
   ],
   "source": [
    "data5 = pd.read_csv('{}/data5.csv'.format(DATA_DIR)).sort_values(by=['time'])\n",
    "training_data = np.concatenate((training_data, build_training_data(data5)))\n",
    "print(len(training_data))\n",
    "saveDatas(training_data)"
   ]
  },
  {
   "cell_type": "code",
   "execution_count": 16,
   "metadata": {},
   "outputs": [
    {
     "name": "stdout",
     "output_type": "stream",
     "text": [
      "start = 2020-11-15 22:31:13.390745\n",
      "end = 2020-11-15 22:50:38.308230\n",
      "189959\n"
     ]
    }
   ],
   "source": [
    "data6 = pd.read_csv('{}/data6.csv'.format(DATA_DIR)).sort_values(by=['time'])\n",
    "training_data = np.concatenate((training_data, build_training_data(data6)))\n",
    "print(len(training_data))\n",
    "saveDatas(training_data)"
   ]
  },
  {
   "cell_type": "code",
   "execution_count": 17,
   "metadata": {},
   "outputs": [
    {
     "name": "stdout",
     "output_type": "stream",
     "text": [
      "training size:  189959\n",
      "validation size:  694\n",
      "-------------------------\n"
     ]
    }
   ],
   "source": [
    "validation_data = find_top_dataset(training_data)\n",
    "print(\"training size: \", len(training_data))\n",
    "print(\"validation size: \", len(validation_data))\n",
    "# print(training_data)\n",
    "print(\"-------------------------\")\n",
    "# print(validation_data)\n",
    "random.shuffle(training_data)\n"
   ]
  },
  {
   "cell_type": "code",
   "execution_count": 39,
   "metadata": {},
   "outputs": [],
   "source": [
    "features = []\n",
    "labels = []\n",
    "for feature, label in training_data:\n",
    "    features.append(feature)\n",
    "    labels.append(label)"
   ]
  },
  {
   "cell_type": "code",
   "execution_count": 44,
   "metadata": {},
   "outputs": [
    {
     "name": "stdout",
     "output_type": "stream",
     "text": [
      "(189959, 1, 1)\n"
     ]
    }
   ],
   "source": [
    "X = np.array(features)\n",
    "Y = np.array(labels)\n",
    "print(X.shape)\n",
    "\n"
   ]
  },
  {
   "cell_type": "code",
   "execution_count": 41,
   "metadata": {},
   "outputs": [],
   "source": [
    "features_val = []\n",
    "labels_val = []\n",
    "for feature, label in validation_data:\n",
    "    features_val.append(feature)\n",
    "    labels_val.append(label)\n",
    "\n",
    "X_val = np.array(features_val)\n",
    "Y_val = np.array(labels_val).astype(np.float32)"
   ]
  },
  {
   "cell_type": "code",
   "execution_count": 45,
   "metadata": {},
   "outputs": [
    {
     "name": "stdout",
     "output_type": "stream",
     "text": [
      "(189959, 1)\n"
     ]
    }
   ],
   "source": [
    "# for cnn\n",
    "X = np.squeeze(X, axis=1)\n",
    "print(X.shape)\n",
    "model = Sequential()   \n",
    "model.add(Dense(1024, activation=\"relu\", input_shape=(X.shape[1:])))\n",
    "model.add(Dense(1024, activation=\"relu\"))\n",
    "model.add(Dense(1024, activation=\"relu\"))\n",
    "model.add(Dense(1024, activation=\"relu\"))\n",
    "model.add(Dense(1024, activation=\"relu\"))\n",
    "model.add(Dense(1024, activation=\"relu\"))\n",
    "model.add(Dense(lenSortedClassContents))\n",
    "model.add(Activation(\"softmax\"))\n",
    "model.compile(loss='sparse_categorical_crossentropy', optimizer=\"adam\", metrics=['accuracy'])\n"
   ]
  },
  {
   "cell_type": "code",
   "execution_count": null,
   "metadata": {},
   "outputs": [],
   "source": [
    "# for embedding Dense\n",
    "X = np.squeeze(X, axis=1)\n",
    "model = trainWithEmbeddingDense(MAX_SEQUENCE, lenSortedClassContents)"
   ]
  },
  {
   "cell_type": "code",
   "execution_count": 46,
   "metadata": {},
   "outputs": [
    {
     "name": "stdout",
     "output_type": "stream",
     "text": [
      "Epoch 1/256\n",
      "   1/2969 [..............................] - ETA: 5s - loss: 9.1585 - accuracy: 0.0000e+00WARNING:tensorflow:Callbacks method `on_train_batch_end` is slow compared to the batch time (batch time: 0.0025s vs `on_train_batch_end` time: 0.0331s). Check your callbacks.\n",
      "2969/2969 [==============================] - 17s 6ms/step - loss: 6.0920 - accuracy: 0.0204 - val_loss: 6.0007 - val_accuracy: 0.0231\n",
      "Epoch 2/256\n",
      "2969/2969 [==============================] - 16s 6ms/step - loss: 5.9766 - accuracy: 0.0244 - val_loss: 5.8243 - val_accuracy: 0.0288\n",
      "Epoch 3/256\n",
      "2969/2969 [==============================] - 17s 6ms/step - loss: 5.9157 - accuracy: 0.0282 - val_loss: 5.7171 - val_accuracy: 0.0303\n",
      "Epoch 4/256\n",
      "2969/2969 [==============================] - 17s 6ms/step - loss: 5.8666 - accuracy: 0.0304 - val_loss: 5.5805 - val_accuracy: 0.0476\n",
      "Epoch 5/256\n",
      "2969/2969 [==============================] - 18s 6ms/step - loss: 5.8245 - accuracy: 0.0331 - val_loss: 5.5070 - val_accuracy: 0.0447\n",
      "Epoch 6/256\n",
      "2969/2969 [==============================] - 18s 6ms/step - loss: 5.7903 - accuracy: 0.0353 - val_loss: 5.4894 - val_accuracy: 0.0476\n",
      "Epoch 7/256\n",
      "2969/2969 [==============================] - 18s 6ms/step - loss: 5.7605 - accuracy: 0.0371 - val_loss: 5.3987 - val_accuracy: 0.0591\n",
      "Epoch 8/256\n",
      "2969/2969 [==============================] - 18s 6ms/step - loss: 5.7328 - accuracy: 0.0383 - val_loss: 5.3471 - val_accuracy: 0.0620\n",
      "Epoch 9/256\n",
      "2969/2969 [==============================] - 18s 6ms/step - loss: 5.7114 - accuracy: 0.0404 - val_loss: 5.3601 - val_accuracy: 0.0476\n",
      "Epoch 10/256\n",
      "2969/2969 [==============================] - 18s 6ms/step - loss: 5.6910 - accuracy: 0.0409 - val_loss: 5.3047 - val_accuracy: 0.0620\n",
      "Epoch 11/256\n",
      "2969/2969 [==============================] - 18s 6ms/step - loss: 5.6755 - accuracy: 0.0416 - val_loss: 5.2688 - val_accuracy: 0.0677\n",
      "Epoch 12/256\n",
      "2969/2969 [==============================] - 18s 6ms/step - loss: 5.6556 - accuracy: 0.0428 - val_loss: 5.2653 - val_accuracy: 0.0720\n",
      "Epoch 13/256\n",
      "2969/2969 [==============================] - 18s 6ms/step - loss: 5.6400 - accuracy: 0.0435 - val_loss: 5.2050 - val_accuracy: 0.0735\n",
      "Epoch 14/256\n",
      "2969/2969 [==============================] - 18s 6ms/step - loss: 5.6266 - accuracy: 0.0442 - val_loss: 5.1995 - val_accuracy: 0.0735\n",
      "Epoch 15/256\n",
      "2969/2969 [==============================] - 18s 6ms/step - loss: 5.6159 - accuracy: 0.0445 - val_loss: 5.1948 - val_accuracy: 0.0749\n",
      "Epoch 16/256\n",
      "2969/2969 [==============================] - 18s 6ms/step - loss: 5.5982 - accuracy: 0.0461 - val_loss: 5.1811 - val_accuracy: 0.0663\n",
      "Epoch 17/256\n",
      "2969/2969 [==============================] - 18s 6ms/step - loss: 5.5902 - accuracy: 0.0455 - val_loss: 5.2976 - val_accuracy: 0.0562\n",
      "Epoch 18/256\n",
      "2969/2969 [==============================] - 18s 6ms/step - loss: 5.5796 - accuracy: 0.0461 - val_loss: 5.1385 - val_accuracy: 0.0908\n",
      "Epoch 19/256\n",
      "2969/2969 [==============================] - 18s 6ms/step - loss: 5.5654 - accuracy: 0.0473 - val_loss: 5.1837 - val_accuracy: 0.0735\n",
      "Epoch 20/256\n",
      "2969/2969 [==============================] - 18s 6ms/step - loss: 5.5574 - accuracy: 0.0471 - val_loss: 5.0903 - val_accuracy: 0.0879\n",
      "Epoch 21/256\n",
      "2969/2969 [==============================] - 18s 6ms/step - loss: 5.5528 - accuracy: 0.0474 - val_loss: 5.1613 - val_accuracy: 0.0807\n",
      "Epoch 22/256\n",
      "2969/2969 [==============================] - 18s 6ms/step - loss: 5.5384 - accuracy: 0.0483 - val_loss: 5.0971 - val_accuracy: 0.0908\n",
      "Epoch 23/256\n",
      "2969/2969 [==============================] - 18s 6ms/step - loss: 5.5307 - accuracy: 0.0490 - val_loss: 5.1269 - val_accuracy: 0.0778\n",
      "Epoch 24/256\n",
      "2969/2969 [==============================] - 18s 6ms/step - loss: 5.5221 - accuracy: 0.0495 - val_loss: 5.0372 - val_accuracy: 0.0922\n",
      "Epoch 25/256\n",
      "2969/2969 [==============================] - 18s 6ms/step - loss: 5.5192 - accuracy: 0.0489 - val_loss: 5.0372 - val_accuracy: 0.0922\n",
      "Epoch 26/256\n",
      "2969/2969 [==============================] - 18s 6ms/step - loss: 5.5118 - accuracy: 0.0493 - val_loss: 5.0637 - val_accuracy: 0.0965\n",
      "Epoch 27/256\n",
      "2969/2969 [==============================] - 18s 6ms/step - loss: 5.5016 - accuracy: 0.0498 - val_loss: 5.0234 - val_accuracy: 0.0951\n",
      "Epoch 28/256\n",
      "2969/2969 [==============================] - 18s 6ms/step - loss: 5.4936 - accuracy: 0.0501 - val_loss: 4.9825 - val_accuracy: 0.1052\n",
      "Epoch 29/256\n",
      "2969/2969 [==============================] - 18s 6ms/step - loss: 5.4911 - accuracy: 0.0506 - val_loss: 4.9928 - val_accuracy: 0.1009\n",
      "Epoch 30/256\n",
      "2969/2969 [==============================] - 18s 6ms/step - loss: 5.4818 - accuracy: 0.0505 - val_loss: 5.5345 - val_accuracy: 0.0548\n",
      "Epoch 31/256\n",
      "2969/2969 [==============================] - 18s 6ms/step - loss: 5.4802 - accuracy: 0.0507 - val_loss: 4.9637 - val_accuracy: 0.1153\n",
      "Epoch 32/256\n",
      "2969/2969 [==============================] - 18s 6ms/step - loss: 5.4688 - accuracy: 0.0513 - val_loss: 5.0090 - val_accuracy: 0.1052\n",
      "Epoch 33/256\n",
      "2969/2969 [==============================] - 18s 6ms/step - loss: 5.4649 - accuracy: 0.0513 - val_loss: 4.9802 - val_accuracy: 0.1037\n",
      "Epoch 34/256\n",
      "2969/2969 [==============================] - 18s 6ms/step - loss: 5.4572 - accuracy: 0.0523 - val_loss: 4.9806 - val_accuracy: 0.1182\n",
      "Epoch 35/256\n",
      "2969/2969 [==============================] - 18s 6ms/step - loss: 5.4559 - accuracy: 0.0519 - val_loss: 4.9393 - val_accuracy: 0.1153\n",
      "Epoch 36/256\n",
      "2969/2969 [==============================] - 18s 6ms/step - loss: 5.4496 - accuracy: 0.0520 - val_loss: 5.0806 - val_accuracy: 0.0908\n",
      "Epoch 37/256\n",
      "2969/2969 [==============================] - 18s 6ms/step - loss: 5.4462 - accuracy: 0.0525 - val_loss: 4.9559 - val_accuracy: 0.1210\n",
      "Epoch 38/256\n",
      "2969/2969 [==============================] - 18s 6ms/step - loss: 5.4383 - accuracy: 0.0529 - val_loss: 4.9324 - val_accuracy: 0.1095\n",
      "Epoch 39/256\n",
      "2969/2969 [==============================] - 18s 6ms/step - loss: 5.4321 - accuracy: 0.0533 - val_loss: 5.0567 - val_accuracy: 0.0965\n",
      "Epoch 40/256\n",
      "2969/2969 [==============================] - 18s 6ms/step - loss: 5.4218 - accuracy: 0.0543 - val_loss: 4.9358 - val_accuracy: 0.1153\n",
      "Epoch 41/256\n",
      "2969/2969 [==============================] - 18s 6ms/step - loss: 5.4161 - accuracy: 0.0544 - val_loss: 5.0196 - val_accuracy: 0.0951\n",
      "Epoch 42/256\n",
      "2969/2969 [==============================] - 18s 6ms/step - loss: 5.4190 - accuracy: 0.0538 - val_loss: 4.9073 - val_accuracy: 0.1225\n",
      "Epoch 43/256\n",
      "2969/2969 [==============================] - 18s 6ms/step - loss: 5.4069 - accuracy: 0.0547 - val_loss: 4.9116 - val_accuracy: 0.1383\n",
      "Epoch 44/256\n",
      "2969/2969 [==============================] - 18s 6ms/step - loss: 5.4100 - accuracy: 0.0541 - val_loss: 4.9272 - val_accuracy: 0.1167\n",
      "Epoch 45/256\n",
      "2969/2969 [==============================] - 18s 6ms/step - loss: 5.4025 - accuracy: 0.0549 - val_loss: 4.9124 - val_accuracy: 0.1254\n",
      "Epoch 46/256\n",
      "2969/2969 [==============================] - 18s 6ms/step - loss: 5.3960 - accuracy: 0.0553 - val_loss: 4.8691 - val_accuracy: 0.1225\n",
      "Epoch 47/256\n",
      "2969/2969 [==============================] - 18s 6ms/step - loss: 5.3985 - accuracy: 0.0548 - val_loss: 4.9507 - val_accuracy: 0.1081\n",
      "Epoch 48/256\n",
      "2969/2969 [==============================] - 18s 6ms/step - loss: 5.3880 - accuracy: 0.0555 - val_loss: 4.9374 - val_accuracy: 0.0965\n",
      "Epoch 49/256\n",
      "2969/2969 [==============================] - 18s 6ms/step - loss: 5.3877 - accuracy: 0.0556 - val_loss: 5.1348 - val_accuracy: 0.0937\n",
      "Epoch 50/256\n",
      "2969/2969 [==============================] - 18s 6ms/step - loss: 5.3864 - accuracy: 0.0553 - val_loss: 4.8385 - val_accuracy: 0.1441\n",
      "Epoch 51/256\n",
      "2969/2969 [==============================] - 18s 6ms/step - loss: 5.3827 - accuracy: 0.0560 - val_loss: 4.8215 - val_accuracy: 0.1282\n",
      "Epoch 52/256\n",
      "2969/2969 [==============================] - 18s 6ms/step - loss: 5.3758 - accuracy: 0.0559 - val_loss: 4.8489 - val_accuracy: 0.1196\n",
      "Epoch 53/256\n",
      "2969/2969 [==============================] - 18s 6ms/step - loss: 5.3695 - accuracy: 0.0569 - val_loss: 4.9522 - val_accuracy: 0.1167\n",
      "Epoch 54/256\n",
      "2969/2969 [==============================] - 18s 6ms/step - loss: 5.3687 - accuracy: 0.0563 - val_loss: 4.8062 - val_accuracy: 0.1383\n"
     ]
    },
    {
     "name": "stdout",
     "output_type": "stream",
     "text": [
      "Epoch 55/256\n",
      "2969/2969 [==============================] - 18s 6ms/step - loss: 5.3665 - accuracy: 0.0575 - val_loss: 4.8351 - val_accuracy: 0.1412\n",
      "Epoch 56/256\n",
      "2969/2969 [==============================] - 18s 6ms/step - loss: 5.3661 - accuracy: 0.0565 - val_loss: 4.9311 - val_accuracy: 0.1037\n",
      "Epoch 57/256\n",
      "2969/2969 [==============================] - 18s 6ms/step - loss: 5.3630 - accuracy: 0.0568 - val_loss: 4.8231 - val_accuracy: 0.1427\n",
      "Epoch 58/256\n",
      "2969/2969 [==============================] - 17s 6ms/step - loss: 5.3604 - accuracy: 0.0572 - val_loss: 4.8348 - val_accuracy: 0.1383\n",
      "Epoch 59/256\n",
      "2969/2969 [==============================] - 17s 6ms/step - loss: 5.3584 - accuracy: 0.0571 - val_loss: 4.8216 - val_accuracy: 0.1311\n",
      "Epoch 60/256\n",
      "2969/2969 [==============================] - 18s 6ms/step - loss: 5.3487 - accuracy: 0.0574 - val_loss: 5.0564 - val_accuracy: 0.0836\n",
      "Epoch 61/256\n",
      "2969/2969 [==============================] - 18s 6ms/step - loss: 5.3492 - accuracy: 0.0574 - val_loss: 4.8447 - val_accuracy: 0.1441\n",
      "Epoch 62/256\n",
      "2969/2969 [==============================] - 18s 6ms/step - loss: 5.3495 - accuracy: 0.0577 - val_loss: 4.9768 - val_accuracy: 0.1066\n",
      "Epoch 63/256\n",
      "2969/2969 [==============================] - 17s 6ms/step - loss: 5.3412 - accuracy: 0.0584 - val_loss: 4.8507 - val_accuracy: 0.1254\n",
      "Epoch 64/256\n",
      "2969/2969 [==============================] - 17s 6ms/step - loss: 5.3399 - accuracy: 0.0576 - val_loss: 4.7789 - val_accuracy: 0.1282\n",
      "Epoch 65/256\n",
      "2969/2969 [==============================] - 18s 6ms/step - loss: 5.3342 - accuracy: 0.0585 - val_loss: 4.7884 - val_accuracy: 0.1441\n",
      "Epoch 66/256\n",
      "2969/2969 [==============================] - 18s 6ms/step - loss: 5.3342 - accuracy: 0.0584 - val_loss: 4.8703 - val_accuracy: 0.1311\n",
      "Epoch 67/256\n",
      "2969/2969 [==============================] - 18s 6ms/step - loss: 5.3327 - accuracy: 0.0591 - val_loss: 4.7765 - val_accuracy: 0.1441\n",
      "Epoch 68/256\n",
      "2969/2969 [==============================] - 17s 6ms/step - loss: 5.3265 - accuracy: 0.0580 - val_loss: 4.8224 - val_accuracy: 0.1383\n",
      "Epoch 69/256\n",
      "2969/2969 [==============================] - 17s 6ms/step - loss: 5.3243 - accuracy: 0.0589 - val_loss: 4.7911 - val_accuracy: 0.1383\n",
      "Epoch 70/256\n",
      "2969/2969 [==============================] - 18s 6ms/step - loss: 5.3256 - accuracy: 0.0587 - val_loss: 4.8056 - val_accuracy: 0.1455\n",
      "Epoch 71/256\n",
      "2969/2969 [==============================] - 17s 6ms/step - loss: 5.3205 - accuracy: 0.0588 - val_loss: 4.7718 - val_accuracy: 0.1311\n",
      "Epoch 72/256\n",
      "2969/2969 [==============================] - 18s 6ms/step - loss: 5.3217 - accuracy: 0.0591 - val_loss: 4.7584 - val_accuracy: 0.1499\n",
      "Epoch 73/256\n",
      "2969/2969 [==============================] - 17s 6ms/step - loss: 5.3128 - accuracy: 0.0596 - val_loss: 4.8299 - val_accuracy: 0.1354\n",
      "Epoch 74/256\n",
      "2969/2969 [==============================] - 18s 6ms/step - loss: 5.3120 - accuracy: 0.0598 - val_loss: 4.9329 - val_accuracy: 0.1052\n",
      "Epoch 75/256\n",
      "2969/2969 [==============================] - 17s 6ms/step - loss: 5.3173 - accuracy: 0.0588 - val_loss: 4.7697 - val_accuracy: 0.1369\n",
      "Epoch 76/256\n",
      "2969/2969 [==============================] - 17s 6ms/step - loss: 5.3144 - accuracy: 0.0587 - val_loss: 4.7069 - val_accuracy: 0.1412\n",
      "Epoch 77/256\n",
      "2969/2969 [==============================] - 18s 6ms/step - loss: 5.3152 - accuracy: 0.0590 - val_loss: 4.8334 - val_accuracy: 0.1268\n",
      "Epoch 78/256\n",
      "2969/2969 [==============================] - 17s 6ms/step - loss: 5.3066 - accuracy: 0.0593 - val_loss: 4.8459 - val_accuracy: 0.1225\n",
      "Epoch 79/256\n",
      "2969/2969 [==============================] - 18s 6ms/step - loss: 5.3036 - accuracy: 0.0601 - val_loss: 5.5764 - val_accuracy: 0.0677\n",
      "Epoch 80/256\n",
      "2969/2969 [==============================] - 17s 6ms/step - loss: 5.3020 - accuracy: 0.0601 - val_loss: 4.7207 - val_accuracy: 0.1354\n",
      "Epoch 81/256\n",
      "2969/2969 [==============================] - 18s 6ms/step - loss: 5.2976 - accuracy: 0.0600 - val_loss: 4.8082 - val_accuracy: 0.1282\n",
      "Epoch 82/256\n",
      "2969/2969 [==============================] - 18s 6ms/step - loss: 5.2976 - accuracy: 0.0604 - val_loss: 4.7018 - val_accuracy: 0.1441\n",
      "Epoch 83/256\n",
      "2969/2969 [==============================] - 17s 6ms/step - loss: 5.2930 - accuracy: 0.0604 - val_loss: 4.7196 - val_accuracy: 0.1455\n",
      "Epoch 84/256\n",
      "2969/2969 [==============================] - 18s 6ms/step - loss: 5.2915 - accuracy: 0.0602 - val_loss: 4.7242 - val_accuracy: 0.1527\n",
      "Epoch 85/256\n",
      "2969/2969 [==============================] - 18s 6ms/step - loss: 5.2922 - accuracy: 0.0605 - val_loss: 4.6591 - val_accuracy: 0.1643\n",
      "Epoch 86/256\n",
      "2969/2969 [==============================] - 18s 6ms/step - loss: 5.2910 - accuracy: 0.0597 - val_loss: 4.6904 - val_accuracy: 0.1455\n",
      "Epoch 87/256\n",
      "2969/2969 [==============================] - 17s 6ms/step - loss: 5.2850 - accuracy: 0.0607 - val_loss: 4.6693 - val_accuracy: 0.1513\n",
      "Epoch 88/256\n",
      "2969/2969 [==============================] - 18s 6ms/step - loss: 5.2870 - accuracy: 0.0604 - val_loss: 4.7221 - val_accuracy: 0.1412\n",
      "Epoch 89/256\n",
      "2969/2969 [==============================] - 17s 6ms/step - loss: 5.2817 - accuracy: 0.0610 - val_loss: 4.6960 - val_accuracy: 0.1455\n",
      "Epoch 90/256\n",
      "2969/2969 [==============================] - 17s 6ms/step - loss: 5.2784 - accuracy: 0.0607 - val_loss: 5.1483 - val_accuracy: 0.0749\n",
      "Epoch 91/256\n",
      "2969/2969 [==============================] - 17s 6ms/step - loss: 5.2793 - accuracy: 0.0604 - val_loss: 4.8603 - val_accuracy: 0.1138\n",
      "Epoch 92/256\n",
      "2969/2969 [==============================] - 17s 6ms/step - loss: 5.2785 - accuracy: 0.0614 - val_loss: 4.6708 - val_accuracy: 0.1398\n",
      "Epoch 93/256\n",
      "2969/2969 [==============================] - 17s 6ms/step - loss: 5.2744 - accuracy: 0.0612 - val_loss: 4.7505 - val_accuracy: 0.1354\n",
      "Epoch 94/256\n",
      "2969/2969 [==============================] - 18s 6ms/step - loss: 5.2771 - accuracy: 0.0610 - val_loss: 4.6548 - val_accuracy: 0.1571\n",
      "Epoch 95/256\n",
      "2969/2969 [==============================] - 18s 6ms/step - loss: 5.2774 - accuracy: 0.0604 - val_loss: 4.7385 - val_accuracy: 0.1282\n",
      "Epoch 96/256\n",
      "2969/2969 [==============================] - 18s 6ms/step - loss: 5.2864 - accuracy: 0.0603 - val_loss: 4.7584 - val_accuracy: 0.1311\n",
      "Epoch 97/256\n",
      "2969/2969 [==============================] - 17s 6ms/step - loss: 5.2685 - accuracy: 0.0620 - val_loss: 4.7159 - val_accuracy: 0.1398\n",
      "Epoch 98/256\n",
      "2969/2969 [==============================] - 17s 6ms/step - loss: 5.2775 - accuracy: 0.0607 - val_loss: 4.8111 - val_accuracy: 0.1254\n",
      "Epoch 99/256\n",
      "2969/2969 [==============================] - 17s 6ms/step - loss: 5.2753 - accuracy: 0.0609 - val_loss: 4.7484 - val_accuracy: 0.1455\n",
      "Epoch 100/256\n",
      "2969/2969 [==============================] - 18s 6ms/step - loss: 5.2700 - accuracy: 0.0614 - val_loss: 5.1021 - val_accuracy: 0.0980\n",
      "Epoch 101/256\n",
      "2969/2969 [==============================] - 18s 6ms/step - loss: 5.2649 - accuracy: 0.0614 - val_loss: 4.8244 - val_accuracy: 0.1326\n",
      "Epoch 102/256\n",
      "2969/2969 [==============================] - 18s 6ms/step - loss: 5.2716 - accuracy: 0.0607 - val_loss: 4.6518 - val_accuracy: 0.1571\n",
      "Epoch 103/256\n",
      "2969/2969 [==============================] - 17s 6ms/step - loss: 5.2614 - accuracy: 0.0618 - val_loss: 4.8444 - val_accuracy: 0.1095\n",
      "Epoch 104/256\n",
      "2969/2969 [==============================] - 17s 6ms/step - loss: 5.2629 - accuracy: 0.0615 - val_loss: 4.7541 - val_accuracy: 0.1254\n",
      "Epoch 105/256\n",
      "2969/2969 [==============================] - 18s 6ms/step - loss: 5.2693 - accuracy: 0.0606 - val_loss: 4.6623 - val_accuracy: 0.1484\n",
      "Epoch 106/256\n",
      "2969/2969 [==============================] - 17s 6ms/step - loss: 5.2608 - accuracy: 0.0616 - val_loss: 4.6811 - val_accuracy: 0.1556\n",
      "Epoch 107/256\n",
      "2969/2969 [==============================] - 17s 6ms/step - loss: 5.2527 - accuracy: 0.0620 - val_loss: 4.6430 - val_accuracy: 0.1556\n",
      "Epoch 108/256\n",
      "2969/2969 [==============================] - 18s 6ms/step - loss: 5.2550 - accuracy: 0.0617 - val_loss: 4.6640 - val_accuracy: 0.1527\n",
      "Epoch 109/256\n",
      "2969/2969 [==============================] - 18s 6ms/step - loss: 5.2734 - accuracy: 0.0612 - val_loss: 4.7427 - val_accuracy: 0.1455\n",
      "Epoch 110/256\n"
     ]
    },
    {
     "name": "stdout",
     "output_type": "stream",
     "text": [
      "2969/2969 [==============================] - 18s 6ms/step - loss: 5.2541 - accuracy: 0.0620 - val_loss: 4.7335 - val_accuracy: 0.1571\n",
      "Epoch 111/256\n",
      "2969/2969 [==============================] - 17s 6ms/step - loss: 5.2459 - accuracy: 0.0621 - val_loss: 4.6775 - val_accuracy: 0.1542\n",
      "Epoch 112/256\n",
      "2969/2969 [==============================] - 17s 6ms/step - loss: 5.2517 - accuracy: 0.0623 - val_loss: 4.7243 - val_accuracy: 0.1484\n",
      "Epoch 113/256\n",
      "2969/2969 [==============================] - 17s 6ms/step - loss: 5.2510 - accuracy: 0.0625 - val_loss: 4.6018 - val_accuracy: 0.1614\n",
      "Epoch 114/256\n",
      "2969/2969 [==============================] - 17s 6ms/step - loss: 5.2431 - accuracy: 0.0631 - val_loss: 4.6374 - val_accuracy: 0.1513\n",
      "Epoch 115/256\n",
      "2969/2969 [==============================] - 18s 6ms/step - loss: 5.2423 - accuracy: 0.0624 - val_loss: 4.6359 - val_accuracy: 0.1628\n",
      "Epoch 116/256\n",
      "2969/2969 [==============================] - 18s 6ms/step - loss: 5.2391 - accuracy: 0.0629 - val_loss: 4.6684 - val_accuracy: 0.1628\n",
      "Epoch 117/256\n",
      "2969/2969 [==============================] - 17s 6ms/step - loss: 5.2398 - accuracy: 0.0625 - val_loss: 4.6552 - val_accuracy: 0.1499\n",
      "Epoch 118/256\n",
      "2969/2969 [==============================] - 17s 6ms/step - loss: 5.2476 - accuracy: 0.0618 - val_loss: 4.6379 - val_accuracy: 0.1571\n",
      "Epoch 119/256\n",
      "2969/2969 [==============================] - 17s 6ms/step - loss: 5.2381 - accuracy: 0.0625 - val_loss: 4.6052 - val_accuracy: 0.1599\n",
      "Epoch 120/256\n",
      "2969/2969 [==============================] - 18s 6ms/step - loss: 5.2343 - accuracy: 0.0630 - val_loss: 4.6709 - val_accuracy: 0.1513\n",
      "Epoch 121/256\n",
      "2969/2969 [==============================] - 17s 6ms/step - loss: 5.2410 - accuracy: 0.0625 - val_loss: 4.6326 - val_accuracy: 0.1585\n",
      "Epoch 122/256\n",
      "2969/2969 [==============================] - 17s 6ms/step - loss: 5.2357 - accuracy: 0.0625 - val_loss: 4.6069 - val_accuracy: 0.1513\n",
      "Epoch 123/256\n",
      "2969/2969 [==============================] - 18s 6ms/step - loss: 5.2330 - accuracy: 0.0627 - val_loss: 4.5974 - val_accuracy: 0.1599\n",
      "Epoch 124/256\n",
      "2969/2969 [==============================] - 18s 6ms/step - loss: 5.2333 - accuracy: 0.0623 - val_loss: 4.9203 - val_accuracy: 0.1182\n",
      "Epoch 125/256\n",
      "2969/2969 [==============================] - 18s 6ms/step - loss: 5.2313 - accuracy: 0.0625 - val_loss: 4.7447 - val_accuracy: 0.1398\n",
      "Epoch 126/256\n",
      "2969/2969 [==============================] - 18s 6ms/step - loss: 5.2304 - accuracy: 0.0625 - val_loss: 4.6633 - val_accuracy: 0.1398\n",
      "Epoch 127/256\n",
      "2969/2969 [==============================] - 18s 6ms/step - loss: 5.2247 - accuracy: 0.0630 - val_loss: 4.6214 - val_accuracy: 0.1455\n",
      "Epoch 128/256\n",
      "2969/2969 [==============================] - 17s 6ms/step - loss: 5.2222 - accuracy: 0.0632 - val_loss: 4.7517 - val_accuracy: 0.1427\n",
      "Epoch 129/256\n",
      "2969/2969 [==============================] - 18s 6ms/step - loss: 5.2295 - accuracy: 0.0625 - val_loss: 4.8984 - val_accuracy: 0.0908\n",
      "Epoch 130/256\n",
      "2969/2969 [==============================] - 18s 6ms/step - loss: 5.2283 - accuracy: 0.0625 - val_loss: 4.6970 - val_accuracy: 0.1513\n",
      "Epoch 131/256\n",
      "2969/2969 [==============================] - 18s 6ms/step - loss: 5.2141 - accuracy: 0.0635 - val_loss: 4.6743 - val_accuracy: 0.1455\n",
      "Epoch 132/256\n",
      "2969/2969 [==============================] - 18s 6ms/step - loss: 5.2200 - accuracy: 0.0638 - val_loss: 4.6943 - val_accuracy: 0.1499\n",
      "Epoch 133/256\n",
      "2969/2969 [==============================] - 17s 6ms/step - loss: 5.2217 - accuracy: 0.0626 - val_loss: 4.6240 - val_accuracy: 0.1527\n",
      "Epoch 134/256\n",
      "2969/2969 [==============================] - 18s 6ms/step - loss: 5.2248 - accuracy: 0.0627 - val_loss: 4.6580 - val_accuracy: 0.1369\n",
      "Epoch 135/256\n",
      "2969/2969 [==============================] - 18s 6ms/step - loss: 5.2178 - accuracy: 0.0629 - val_loss: 4.8499 - val_accuracy: 0.1052\n",
      "Epoch 136/256\n",
      "2969/2969 [==============================] - 18s 6ms/step - loss: 5.2264 - accuracy: 0.0628 - val_loss: 4.6512 - val_accuracy: 0.1542\n",
      "Epoch 137/256\n",
      "2969/2969 [==============================] - 18s 6ms/step - loss: 5.2139 - accuracy: 0.0633 - val_loss: 4.8449 - val_accuracy: 0.1196\n",
      "Epoch 138/256\n",
      "2969/2969 [==============================] - 18s 6ms/step - loss: 5.2283 - accuracy: 0.0625 - val_loss: 4.5899 - val_accuracy: 0.1571\n",
      "Epoch 139/256\n",
      "2969/2969 [==============================] - 18s 6ms/step - loss: 5.2241 - accuracy: 0.0622 - val_loss: 4.7465 - val_accuracy: 0.1383\n",
      "Epoch 140/256\n",
      "2969/2969 [==============================] - 17s 6ms/step - loss: 5.2230 - accuracy: 0.0632 - val_loss: 4.7140 - val_accuracy: 0.1369\n",
      "Epoch 141/256\n",
      "2969/2969 [==============================] - 18s 6ms/step - loss: 5.2125 - accuracy: 0.0636 - val_loss: 4.6549 - val_accuracy: 0.1671\n",
      "Epoch 142/256\n",
      "2969/2969 [==============================] - 17s 6ms/step - loss: 5.2258 - accuracy: 0.0625 - val_loss: 4.8936 - val_accuracy: 0.0980\n",
      "Epoch 143/256\n",
      "2969/2969 [==============================] - 18s 6ms/step - loss: 5.2255 - accuracy: 0.0623 - val_loss: 4.6184 - val_accuracy: 0.1470\n",
      "Epoch 144/256\n",
      "2969/2969 [==============================] - 18s 6ms/step - loss: 5.2119 - accuracy: 0.0635 - val_loss: 4.6034 - val_accuracy: 0.1686\n",
      "Epoch 145/256\n",
      "2969/2969 [==============================] - 18s 6ms/step - loss: 5.2165 - accuracy: 0.0629 - val_loss: 4.6297 - val_accuracy: 0.1614\n",
      "Epoch 146/256\n",
      "2969/2969 [==============================] - 18s 6ms/step - loss: 5.2158 - accuracy: 0.0631 - val_loss: 4.5455 - val_accuracy: 0.1499\n",
      "Epoch 147/256\n",
      "2969/2969 [==============================] - 18s 6ms/step - loss: 5.2275 - accuracy: 0.0622 - val_loss: 4.9302 - val_accuracy: 0.1023\n",
      "Epoch 148/256\n",
      "2969/2969 [==============================] - 17s 6ms/step - loss: 5.2215 - accuracy: 0.0631 - val_loss: 4.6391 - val_accuracy: 0.1614\n",
      "Epoch 149/256\n",
      "2969/2969 [==============================] - 18s 6ms/step - loss: 5.2287 - accuracy: 0.0626 - val_loss: 4.6446 - val_accuracy: 0.1643\n",
      "Epoch 150/256\n",
      "2969/2969 [==============================] - 18s 6ms/step - loss: 5.2238 - accuracy: 0.0628 - val_loss: 4.6461 - val_accuracy: 0.1527\n",
      "Epoch 151/256\n",
      "2969/2969 [==============================] - 18s 6ms/step - loss: 5.2135 - accuracy: 0.0630 - val_loss: 4.6707 - val_accuracy: 0.1441\n",
      "Epoch 152/256\n",
      "2969/2969 [==============================] - 18s 6ms/step - loss: 5.2102 - accuracy: 0.0639 - val_loss: 4.6935 - val_accuracy: 0.1412\n",
      "Epoch 153/256\n",
      "2969/2969 [==============================] - 17s 6ms/step - loss: 5.2139 - accuracy: 0.0632 - val_loss: 5.0047 - val_accuracy: 0.0994\n",
      "Epoch 154/256\n",
      "2969/2969 [==============================] - 18s 6ms/step - loss: 5.2221 - accuracy: 0.0625 - val_loss: 4.8184 - val_accuracy: 0.1326\n",
      "Epoch 155/256\n",
      "2969/2969 [==============================] - 18s 6ms/step - loss: 5.2169 - accuracy: 0.0632 - val_loss: 4.6263 - val_accuracy: 0.1441\n",
      "Epoch 156/256\n",
      "2969/2969 [==============================] - 18s 6ms/step - loss: 5.2055 - accuracy: 0.0640 - val_loss: 4.6782 - val_accuracy: 0.1556\n",
      "Epoch 157/256\n",
      "2969/2969 [==============================] - 17s 6ms/step - loss: 5.2090 - accuracy: 0.0633 - val_loss: 4.6134 - val_accuracy: 0.1671\n",
      "Epoch 158/256\n",
      "2969/2969 [==============================] - 18s 6ms/step - loss: 5.2014 - accuracy: 0.0644 - val_loss: 4.6940 - val_accuracy: 0.1470\n",
      "Epoch 159/256\n",
      "2969/2969 [==============================] - 17s 6ms/step - loss: 5.2017 - accuracy: 0.0643 - val_loss: 5.0417 - val_accuracy: 0.0937\n",
      "Epoch 160/256\n",
      "2969/2969 [==============================] - 18s 6ms/step - loss: 5.2071 - accuracy: 0.0638 - val_loss: 4.5736 - val_accuracy: 0.1787\n",
      "Epoch 161/256\n",
      "2969/2969 [==============================] - 18s 6ms/step - loss: 5.2031 - accuracy: 0.0640 - val_loss: 4.6089 - val_accuracy: 0.1585\n",
      "Epoch 162/256\n",
      "2969/2969 [==============================] - 18s 6ms/step - loss: 5.2304 - accuracy: 0.0616 - val_loss: 4.5893 - val_accuracy: 0.1715\n",
      "Epoch 163/256\n",
      "2969/2969 [==============================] - 18s 6ms/step - loss: 5.2115 - accuracy: 0.0644 - val_loss: 4.6870 - val_accuracy: 0.1354\n",
      "Epoch 164/256\n",
      "2969/2969 [==============================] - 18s 6ms/step - loss: 5.2237 - accuracy: 0.0632 - val_loss: 4.5892 - val_accuracy: 0.1542\n",
      "Epoch 165/256\n"
     ]
    },
    {
     "name": "stdout",
     "output_type": "stream",
     "text": [
      "2969/2969 [==============================] - 17s 6ms/step - loss: 5.2221 - accuracy: 0.0629 - val_loss: 4.5971 - val_accuracy: 0.1700\n",
      "Epoch 166/256\n",
      "2969/2969 [==============================] - 17s 6ms/step - loss: 5.2111 - accuracy: 0.0633 - val_loss: 4.6189 - val_accuracy: 0.1599\n",
      "Epoch 167/256\n",
      "2969/2969 [==============================] - 17s 6ms/step - loss: 5.2053 - accuracy: 0.0637 - val_loss: 4.5940 - val_accuracy: 0.1556\n",
      "Epoch 168/256\n",
      "2969/2969 [==============================] - 18s 6ms/step - loss: 5.2148 - accuracy: 0.0639 - val_loss: 4.6572 - val_accuracy: 0.1571\n",
      "Epoch 169/256\n",
      "2969/2969 [==============================] - 18s 6ms/step - loss: 5.2088 - accuracy: 0.0633 - val_loss: 4.6668 - val_accuracy: 0.1542\n",
      "Epoch 170/256\n",
      "2969/2969 [==============================] - 18s 6ms/step - loss: 5.2107 - accuracy: 0.0637 - val_loss: 4.5943 - val_accuracy: 0.1556\n",
      "Epoch 171/256\n",
      "2969/2969 [==============================] - 18s 6ms/step - loss: 5.2111 - accuracy: 0.0636 - val_loss: 4.5741 - val_accuracy: 0.1671\n",
      "Epoch 172/256\n",
      "2969/2969 [==============================] - 18s 6ms/step - loss: 5.2098 - accuracy: 0.0635 - val_loss: 4.7573 - val_accuracy: 0.1369\n",
      "Epoch 173/256\n",
      "2969/2969 [==============================] - 19s 6ms/step - loss: 5.2019 - accuracy: 0.0640 - val_loss: 4.8835 - val_accuracy: 0.1196\n",
      "Epoch 174/256\n",
      "2969/2969 [==============================] - 18s 6ms/step - loss: 5.2115 - accuracy: 0.0637 - val_loss: 4.5787 - val_accuracy: 0.1599\n",
      "Epoch 175/256\n",
      "2969/2969 [==============================] - 18s 6ms/step - loss: 5.1996 - accuracy: 0.0640 - val_loss: 4.5691 - val_accuracy: 0.1571\n",
      "Epoch 176/256\n",
      "2969/2969 [==============================] - 18s 6ms/step - loss: 5.1981 - accuracy: 0.0640 - val_loss: 4.6652 - val_accuracy: 0.1527\n",
      "Epoch 177/256\n",
      "2969/2969 [==============================] - 18s 6ms/step - loss: 5.2070 - accuracy: 0.0638 - val_loss: 4.6652 - val_accuracy: 0.1499\n",
      "Epoch 178/256\n",
      "2969/2969 [==============================] - 17s 6ms/step - loss: 5.1920 - accuracy: 0.0643 - val_loss: 4.6645 - val_accuracy: 0.1499\n",
      "Epoch 179/256\n",
      "2969/2969 [==============================] - 18s 6ms/step - loss: 5.1974 - accuracy: 0.0639 - val_loss: 4.6075 - val_accuracy: 0.1556\n",
      "Epoch 180/256\n",
      "2969/2969 [==============================] - 18s 6ms/step - loss: 5.1879 - accuracy: 0.0645 - val_loss: 4.6507 - val_accuracy: 0.1513\n",
      "Epoch 181/256\n",
      "2969/2969 [==============================] - 18s 6ms/step - loss: 5.1955 - accuracy: 0.0647 - val_loss: 4.5839 - val_accuracy: 0.1527\n",
      "Epoch 182/256\n",
      "2969/2969 [==============================] - 18s 6ms/step - loss: 5.1904 - accuracy: 0.0644 - val_loss: 4.7566 - val_accuracy: 0.1326\n",
      "Epoch 183/256\n",
      "2969/2969 [==============================] - 18s 6ms/step - loss: 5.1917 - accuracy: 0.0644 - val_loss: 4.6067 - val_accuracy: 0.1556\n",
      "Epoch 184/256\n",
      "2969/2969 [==============================] - 17s 6ms/step - loss: 5.1823 - accuracy: 0.0648 - val_loss: 4.6329 - val_accuracy: 0.1585\n",
      "Epoch 185/256\n",
      "2969/2969 [==============================] - 18s 6ms/step - loss: 5.1866 - accuracy: 0.0646 - val_loss: 4.6234 - val_accuracy: 0.1455\n",
      "Epoch 186/256\n",
      "2969/2969 [==============================] - 18s 6ms/step - loss: 5.1873 - accuracy: 0.0646 - val_loss: 4.6388 - val_accuracy: 0.1614\n",
      "Epoch 187/256\n",
      "2969/2969 [==============================] - 18s 6ms/step - loss: 5.2006 - accuracy: 0.0640 - val_loss: 4.5775 - val_accuracy: 0.1599\n",
      "Epoch 188/256\n",
      "2969/2969 [==============================] - 18s 6ms/step - loss: 5.1827 - accuracy: 0.0646 - val_loss: 4.6245 - val_accuracy: 0.1614\n",
      "Epoch 189/256\n",
      "2969/2969 [==============================] - 17s 6ms/step - loss: 5.1864 - accuracy: 0.0646 - val_loss: 4.6448 - val_accuracy: 0.1499\n",
      "Epoch 190/256\n",
      "2969/2969 [==============================] - 18s 6ms/step - loss: 5.1753 - accuracy: 0.0644 - val_loss: 4.5511 - val_accuracy: 0.1715\n",
      "Epoch 191/256\n",
      "2969/2969 [==============================] - 17s 6ms/step - loss: 5.1912 - accuracy: 0.0645 - val_loss: 4.5932 - val_accuracy: 0.1657\n",
      "Epoch 192/256\n",
      "2969/2969 [==============================] - 18s 6ms/step - loss: 5.1810 - accuracy: 0.0651 - val_loss: 4.5846 - val_accuracy: 0.1542\n",
      "Epoch 193/256\n",
      "2969/2969 [==============================] - 17s 6ms/step - loss: 5.1903 - accuracy: 0.0638 - val_loss: 4.6049 - val_accuracy: 0.1628\n",
      "Epoch 194/256\n",
      "2969/2969 [==============================] - 18s 6ms/step - loss: 5.2046 - accuracy: 0.0634 - val_loss: 4.6003 - val_accuracy: 0.1729\n",
      "Epoch 195/256\n",
      "2969/2969 [==============================] - 18s 6ms/step - loss: 5.1929 - accuracy: 0.0642 - val_loss: 4.6592 - val_accuracy: 0.1542\n",
      "Epoch 196/256\n",
      "2969/2969 [==============================] - 18s 6ms/step - loss: 5.1835 - accuracy: 0.0644 - val_loss: 4.8016 - val_accuracy: 0.1369\n",
      "Epoch 197/256\n",
      "2969/2969 [==============================] - 18s 6ms/step - loss: 5.2054 - accuracy: 0.0632 - val_loss: 4.7850 - val_accuracy: 0.1383\n",
      "Epoch 198/256\n",
      "2969/2969 [==============================] - 17s 6ms/step - loss: 5.2106 - accuracy: 0.0627 - val_loss: 4.7419 - val_accuracy: 0.1383\n",
      "Epoch 199/256\n",
      "2969/2969 [==============================] - 17s 6ms/step - loss: 5.1971 - accuracy: 0.0639 - val_loss: 4.6460 - val_accuracy: 0.1542\n",
      "Epoch 200/256\n",
      "2969/2969 [==============================] - 18s 6ms/step - loss: 5.1982 - accuracy: 0.0632 - val_loss: 4.6194 - val_accuracy: 0.1556\n",
      "Epoch 201/256\n",
      "2969/2969 [==============================] - 18s 6ms/step - loss: 5.1993 - accuracy: 0.0637 - val_loss: 4.7769 - val_accuracy: 0.1398\n",
      "Epoch 202/256\n",
      "2969/2969 [==============================] - 18s 6ms/step - loss: 5.1897 - accuracy: 0.0639 - val_loss: 4.7692 - val_accuracy: 0.1513\n",
      "Epoch 203/256\n",
      "2969/2969 [==============================] - 18s 6ms/step - loss: 5.1944 - accuracy: 0.0637 - val_loss: 4.6017 - val_accuracy: 0.1614\n",
      "Epoch 204/256\n",
      "2969/2969 [==============================] - 18s 6ms/step - loss: 5.1883 - accuracy: 0.0639 - val_loss: 4.5786 - val_accuracy: 0.1700\n",
      "Epoch 205/256\n",
      "2969/2969 [==============================] - 18s 6ms/step - loss: 5.2027 - accuracy: 0.0634 - val_loss: 4.6012 - val_accuracy: 0.1556\n",
      "Epoch 206/256\n",
      "2969/2969 [==============================] - 18s 6ms/step - loss: 5.2054 - accuracy: 0.0635 - val_loss: 4.6264 - val_accuracy: 0.1513\n",
      "Epoch 207/256\n",
      "2969/2969 [==============================] - 18s 6ms/step - loss: 5.1923 - accuracy: 0.0642 - val_loss: 4.5813 - val_accuracy: 0.1571\n",
      "Epoch 208/256\n",
      "2969/2969 [==============================] - 18s 6ms/step - loss: 5.1761 - accuracy: 0.0651 - val_loss: 4.5510 - val_accuracy: 0.1816\n",
      "Epoch 209/256\n",
      "2969/2969 [==============================] - 18s 6ms/step - loss: 5.1778 - accuracy: 0.0648 - val_loss: 4.7033 - val_accuracy: 0.1484\n",
      "Epoch 210/256\n",
      "2969/2969 [==============================] - 18s 6ms/step - loss: 5.1747 - accuracy: 0.0648 - val_loss: 4.6903 - val_accuracy: 0.1455\n",
      "Epoch 211/256\n",
      "2969/2969 [==============================] - 18s 6ms/step - loss: 5.1735 - accuracy: 0.0649 - val_loss: 4.5809 - val_accuracy: 0.1499\n",
      "Epoch 212/256\n",
      "2969/2969 [==============================] - 17s 6ms/step - loss: 5.1761 - accuracy: 0.0648 - val_loss: 4.6659 - val_accuracy: 0.1585\n",
      "Epoch 213/256\n",
      "2969/2969 [==============================] - 18s 6ms/step - loss: 5.1673 - accuracy: 0.0652 - val_loss: 4.5292 - val_accuracy: 0.1729\n",
      "Epoch 214/256\n",
      "2969/2969 [==============================] - 17s 6ms/step - loss: 5.1672 - accuracy: 0.0652 - val_loss: 4.5292 - val_accuracy: 0.1599\n",
      "Epoch 215/256\n",
      "2969/2969 [==============================] - 18s 6ms/step - loss: 5.1735 - accuracy: 0.0651 - val_loss: 4.8822 - val_accuracy: 0.1110\n",
      "Epoch 216/256\n",
      "2969/2969 [==============================] - 18s 6ms/step - loss: 5.1747 - accuracy: 0.0650 - val_loss: 4.6580 - val_accuracy: 0.1643\n",
      "Epoch 217/256\n",
      "2969/2969 [==============================] - 18s 6ms/step - loss: 5.1778 - accuracy: 0.0647 - val_loss: 4.6680 - val_accuracy: 0.1455\n",
      "Epoch 218/256\n",
      "2969/2969 [==============================] - 17s 6ms/step - loss: 5.1993 - accuracy: 0.0634 - val_loss: 4.6221 - val_accuracy: 0.1571\n",
      "Epoch 219/256\n",
      "2969/2969 [==============================] - 17s 6ms/step - loss: 5.1716 - accuracy: 0.0649 - val_loss: 4.5809 - val_accuracy: 0.1657\n",
      "Epoch 220/256\n"
     ]
    },
    {
     "name": "stdout",
     "output_type": "stream",
     "text": [
      "2969/2969 [==============================] - 18s 6ms/step - loss: 5.1787 - accuracy: 0.0642 - val_loss: 4.8347 - val_accuracy: 0.1225\n",
      "Epoch 221/256\n",
      "2969/2969 [==============================] - 17s 6ms/step - loss: 5.1864 - accuracy: 0.0639 - val_loss: 4.6147 - val_accuracy: 0.1513\n",
      "Epoch 222/256\n",
      "2969/2969 [==============================] - 18s 6ms/step - loss: 5.1722 - accuracy: 0.0649 - val_loss: 4.6044 - val_accuracy: 0.1628\n",
      "Epoch 223/256\n",
      "2969/2969 [==============================] - 17s 6ms/step - loss: 5.1747 - accuracy: 0.0649 - val_loss: 4.7298 - val_accuracy: 0.1311\n",
      "Epoch 224/256\n",
      "2969/2969 [==============================] - 18s 6ms/step - loss: 5.1677 - accuracy: 0.0656 - val_loss: 4.5731 - val_accuracy: 0.1657\n",
      "Epoch 225/256\n",
      "2969/2969 [==============================] - 18s 6ms/step - loss: 5.1803 - accuracy: 0.0644 - val_loss: 4.6433 - val_accuracy: 0.1527\n",
      "Epoch 226/256\n",
      "2969/2969 [==============================] - 17s 6ms/step - loss: 5.1716 - accuracy: 0.0649 - val_loss: 4.7061 - val_accuracy: 0.1499\n",
      "Epoch 227/256\n",
      "2969/2969 [==============================] - 18s 6ms/step - loss: 5.1667 - accuracy: 0.0653 - val_loss: 4.8506 - val_accuracy: 0.1311\n",
      "Epoch 228/256\n",
      "2969/2969 [==============================] - 17s 6ms/step - loss: 5.1888 - accuracy: 0.0643 - val_loss: 4.6782 - val_accuracy: 0.1628\n",
      "Epoch 229/256\n",
      "2969/2969 [==============================] - 17s 6ms/step - loss: 5.1710 - accuracy: 0.0651 - val_loss: 4.5870 - val_accuracy: 0.1599\n",
      "Epoch 230/256\n",
      "2969/2969 [==============================] - 18s 6ms/step - loss: 5.1722 - accuracy: 0.0651 - val_loss: 4.7444 - val_accuracy: 0.1398\n",
      "Epoch 231/256\n",
      "2969/2969 [==============================] - 18s 6ms/step - loss: 5.1732 - accuracy: 0.0651 - val_loss: 4.5799 - val_accuracy: 0.1744\n",
      "Epoch 232/256\n",
      "2969/2969 [==============================] - 18s 6ms/step - loss: 5.1730 - accuracy: 0.0647 - val_loss: 4.7764 - val_accuracy: 0.1239\n",
      "Epoch 233/256\n",
      "2969/2969 [==============================] - 18s 6ms/step - loss: 5.1772 - accuracy: 0.0647 - val_loss: 4.5736 - val_accuracy: 0.1729\n",
      "Epoch 234/256\n",
      "2969/2969 [==============================] - 18s 6ms/step - loss: 5.1692 - accuracy: 0.0653 - val_loss: 4.5744 - val_accuracy: 0.1657\n",
      "Epoch 235/256\n",
      "2969/2969 [==============================] - 18s 6ms/step - loss: 5.1694 - accuracy: 0.0652 - val_loss: 4.6904 - val_accuracy: 0.1571\n",
      "Epoch 236/256\n",
      "2969/2969 [==============================] - 18s 6ms/step - loss: 5.1578 - accuracy: 0.0654 - val_loss: 4.7754 - val_accuracy: 0.1455\n",
      "Epoch 237/256\n",
      "2969/2969 [==============================] - 18s 6ms/step - loss: 5.1574 - accuracy: 0.0653 - val_loss: 4.5412 - val_accuracy: 0.1772\n",
      "Epoch 238/256\n",
      "2969/2969 [==============================] - 18s 6ms/step - loss: 5.1588 - accuracy: 0.0653 - val_loss: 4.8270 - val_accuracy: 0.1369\n",
      "Epoch 239/256\n",
      "2969/2969 [==============================] - 18s 6ms/step - loss: 5.1568 - accuracy: 0.0651 - val_loss: 4.5456 - val_accuracy: 0.1729\n",
      "Epoch 240/256\n",
      "2969/2969 [==============================] - 18s 6ms/step - loss: 5.1606 - accuracy: 0.0654 - val_loss: 4.6861 - val_accuracy: 0.1484\n",
      "Epoch 241/256\n",
      "2969/2969 [==============================] - 18s 6ms/step - loss: 5.1681 - accuracy: 0.0647 - val_loss: 4.6242 - val_accuracy: 0.1744\n",
      "Epoch 242/256\n",
      "2969/2969 [==============================] - 18s 6ms/step - loss: 5.1624 - accuracy: 0.0645 - val_loss: 4.5840 - val_accuracy: 0.1614\n",
      "Epoch 243/256\n",
      "2969/2969 [==============================] - 18s 6ms/step - loss: 5.1706 - accuracy: 0.0646 - val_loss: 4.5560 - val_accuracy: 0.1744\n",
      "Epoch 244/256\n",
      "2969/2969 [==============================] - 18s 6ms/step - loss: 5.1585 - accuracy: 0.0650 - val_loss: 4.5478 - val_accuracy: 0.1657\n",
      "Epoch 245/256\n",
      "2969/2969 [==============================] - 18s 6ms/step - loss: 5.1520 - accuracy: 0.0657 - val_loss: 4.8596 - val_accuracy: 0.1268\n",
      "Epoch 246/256\n",
      "2969/2969 [==============================] - 18s 6ms/step - loss: 5.2152 - accuracy: 0.0635 - val_loss: 4.8224 - val_accuracy: 0.1427\n",
      "Epoch 247/256\n",
      "2969/2969 [==============================] - 18s 6ms/step - loss: 5.2139 - accuracy: 0.0623 - val_loss: 4.7551 - val_accuracy: 0.1527\n",
      "Epoch 248/256\n",
      "2969/2969 [==============================] - 18s 6ms/step - loss: 5.1745 - accuracy: 0.0643 - val_loss: 4.7812 - val_accuracy: 0.1470\n",
      "Epoch 249/256\n",
      "2969/2969 [==============================] - 18s 6ms/step - loss: 5.1689 - accuracy: 0.0651 - val_loss: 4.5249 - val_accuracy: 0.1671\n",
      "Epoch 250/256\n",
      "2969/2969 [==============================] - 18s 6ms/step - loss: 5.1531 - accuracy: 0.0655 - val_loss: 4.5133 - val_accuracy: 0.1816\n",
      "Epoch 251/256\n",
      "2969/2969 [==============================] - 18s 6ms/step - loss: 5.1633 - accuracy: 0.0654 - val_loss: 4.5834 - val_accuracy: 0.1657\n",
      "Epoch 252/256\n",
      "2969/2969 [==============================] - 18s 6ms/step - loss: 5.1601 - accuracy: 0.0652 - val_loss: 4.5606 - val_accuracy: 0.1772\n",
      "Epoch 253/256\n",
      "2969/2969 [==============================] - 18s 6ms/step - loss: 5.1602 - accuracy: 0.0649 - val_loss: 4.5629 - val_accuracy: 0.1744\n",
      "Epoch 254/256\n",
      "2969/2969 [==============================] - 18s 6ms/step - loss: 5.1542 - accuracy: 0.0656 - val_loss: 4.7941 - val_accuracy: 0.1513\n",
      "Epoch 255/256\n",
      "2969/2969 [==============================] - 17s 6ms/step - loss: 5.1570 - accuracy: 0.0649 - val_loss: 4.8046 - val_accuracy: 0.1441\n",
      "Epoch 256/256\n",
      "2969/2969 [==============================] - 18s 6ms/step - loss: 5.1649 - accuracy: 0.0648 - val_loss: 4.6881 - val_accuracy: 0.1657\n"
     ]
    }
   ],
   "source": [
    "now = datetime.now()\n",
    "name = \"testing-1{}\".format(now)\n",
    "tensorboard = TensorBoard(log_dir='logs/{}'.format(name))\n",
    "history = model.fit(X, Y, epochs=256, batch_size=64, verbose=1,validation_data=(X_val, Y_val), callbacks=[tensorboard])"
   ]
  },
  {
   "cell_type": "code",
   "execution_count": 47,
   "metadata": {},
   "outputs": [],
   "source": [
    "def plot_graphs(history, string):\n",
    "  plt.plot(history.history[string])\n",
    "  plt.xlabel(\"Epochs\")\n",
    "  plt.ylabel(string)\n",
    "  plt.show()"
   ]
  },
  {
   "cell_type": "code",
   "execution_count": 48,
   "metadata": {},
   "outputs": [
    {
     "data": {
      "image/png": "[encoded data removed]",
      "text/plain": [
       "<Figure size 432x288 with 1 Axes>"
      ]
     },
     "metadata": {
      "needs_background": "light"
     },
     "output_type": "display_data"
    }
   ],
   "source": [
    "plot_graphs(history, 'accuracy')\n"
   ]
  },
  {
   "cell_type": "code",
   "execution_count": 49,
   "metadata": {},
   "outputs": [
    {
     "data": {
      "image/png": "[encoded data removed]",
      "text/plain": [
       "<Figure size 432x288 with 1 Axes>"
      ]
     },
     "metadata": {
      "needs_background": "light"
     },
     "output_type": "display_data"
    }
   ],
   "source": [
    "plot_graphs(history, 'loss')"
   ]
  },
  {
   "cell_type": "code",
   "execution_count": 50,
   "metadata": {},
   "outputs": [
    {
     "data": {
      "image/png": "[encoded data removed]",
      "text/plain": [
       "<Figure size 432x288 with 1 Axes>"
      ]
     },
     "metadata": {
      "needs_background": "light"
     },
     "output_type": "display_data"
    }
   ],
   "source": [
    "plot_graphs(history, 'val_loss')"
   ]
  },
  {
   "cell_type": "code",
   "execution_count": 51,
   "metadata": {},
   "outputs": [
    {
     "data": {
      "image/png": "[encoded data removed]",
      "text/plain": [
       "<Figure size 432x288 with 1 Axes>"
      ]
     },
     "metadata": {
      "needs_background": "light"
     },
     "output_type": "display_data"
    }
   ],
   "source": [
    "plot_graphs(history, 'val_accuracy')"
   ]
  },
  {
   "cell_type": "code",
   "execution_count": 52,
   "metadata": {},
   "outputs": [],
   "source": [
    "def get5TopPredict(predict):\n",
    "    predicts = predict[0].argsort()[-5:][::-1]\n",
    "    for i in predicts:\n",
    "        print(sortedClassContents[i])\n",
    "        "
   ]
  },
  {
   "cell_type": "code",
   "execution_count": 53,
   "metadata": {},
   "outputs": [],
   "source": [
    "      \n",
    "def predictDense(first):\n",
    "    predict = model.predict([[sortedClassContents.index(first)]])\n",
    "    get5TopPredict(predict)\n",
    "    return sortedClassContents[np.argmax(predict[0])]\n"
   ]
  },
  {
   "cell_type": "code",
   "execution_count": 63,
   "metadata": {},
   "outputs": [
    {
     "name": "stdout",
     "output_type": "stream",
     "text": [
      "1589\n",
      "1599\n",
      "1795\n",
      "1774\n",
      "1609\n",
      "1589\n"
     ]
    }
   ],
   "source": [
    "predictResult = predictDense(1506)\n",
    "print(predictResult)"
   ]
  },
  {
   "cell_type": "code",
   "execution_count": 57,
   "metadata": {},
   "outputs": [
    {
     "ename": "ValueError",
     "evalue": "in user code:\n\n    <ipython-input-57-742b1435b3ff>:1 None  *\n        run_model = tf.function(lambda x: model(x))\n    /home/ade/.local/lib/python3.8/site-packages/tensorflow/python/keras/engine/base_layer.py:975 __call__  **\n        input_spec.assert_input_compatibility(self.input_spec, inputs,\n    /home/ade/.local/lib/python3.8/site-packages/tensorflow/python/keras/engine/input_spec.py:212 assert_input_compatibility\n        raise ValueError(\n\n    ValueError: Input 0 of layer sequential_4 is incompatible with the layer: expected axis -1 of input shape to have value 1 but received input with shape [1, 6]\n",
     "output_type": "error",
     "traceback": [
      "\u001b[0;31m---------------------------------------------------------------------------\u001b[0m",
      "\u001b[0;31mValueError\u001b[0m                                Traceback (most recent call last)",
      "\u001b[0;32m<ipython-input-57-742b1435b3ff>\u001b[0m in \u001b[0;36m<module>\u001b[0;34m\u001b[0m\n\u001b[1;32m      1\u001b[0m \u001b[0mrun_model\u001b[0m \u001b[0;34m=\u001b[0m \u001b[0mtf\u001b[0m\u001b[0;34m.\u001b[0m\u001b[0mfunction\u001b[0m\u001b[0;34m(\u001b[0m\u001b[0;32mlambda\u001b[0m \u001b[0mx\u001b[0m\u001b[0;34m:\u001b[0m \u001b[0mmodel\u001b[0m\u001b[0;34m(\u001b[0m\u001b[0mx\u001b[0m\u001b[0;34m)\u001b[0m\u001b[0;34m)\u001b[0m\u001b[0;34m\u001b[0m\u001b[0;34m\u001b[0m\u001b[0m\n\u001b[1;32m      2\u001b[0m \u001b[0;31m# This is important, let's fix the input size.\u001b[0m\u001b[0;34m\u001b[0m\u001b[0;34m\u001b[0m\u001b[0;34m\u001b[0m\u001b[0m\n\u001b[0;32m----> 3\u001b[0;31m concrete_func = run_model.get_concrete_function(\n\u001b[0m\u001b[1;32m      4\u001b[0m     tf.TensorSpec([1,6], model.inputs[0].dtype))\n\u001b[1;32m      5\u001b[0m \u001b[0;34m\u001b[0m\u001b[0m\n",
      "\u001b[0;32m~/.local/lib/python3.8/site-packages/tensorflow/python/eager/def_function.py\u001b[0m in \u001b[0;36mget_concrete_function\u001b[0;34m(self, *args, **kwargs)\u001b[0m\n\u001b[1;32m   1165\u001b[0m       \u001b[0mValueError\u001b[0m\u001b[0;34m:\u001b[0m \u001b[0;32mif\u001b[0m \u001b[0mthis\u001b[0m \u001b[0mobject\u001b[0m \u001b[0mhas\u001b[0m \u001b[0;32mnot\u001b[0m \u001b[0myet\u001b[0m \u001b[0mbeen\u001b[0m \u001b[0mcalled\u001b[0m \u001b[0mon\u001b[0m \u001b[0mconcrete\u001b[0m \u001b[0mvalues\u001b[0m\u001b[0;34m.\u001b[0m\u001b[0;34m\u001b[0m\u001b[0;34m\u001b[0m\u001b[0m\n\u001b[1;32m   1166\u001b[0m     \"\"\"\n\u001b[0;32m-> 1167\u001b[0;31m     \u001b[0mconcrete\u001b[0m \u001b[0;34m=\u001b[0m \u001b[0mself\u001b[0m\u001b[0;34m.\u001b[0m\u001b[0m_get_concrete_function_garbage_collected\u001b[0m\u001b[0;34m(\u001b[0m\u001b[0;34m*\u001b[0m\u001b[0margs\u001b[0m\u001b[0;34m,\u001b[0m \u001b[0;34m**\u001b[0m\u001b[0mkwargs\u001b[0m\u001b[0;34m)\u001b[0m\u001b[0;34m\u001b[0m\u001b[0;34m\u001b[0m\u001b[0m\n\u001b[0m\u001b[1;32m   1168\u001b[0m     \u001b[0mconcrete\u001b[0m\u001b[0;34m.\u001b[0m\u001b[0m_garbage_collector\u001b[0m\u001b[0;34m.\u001b[0m\u001b[0mrelease\u001b[0m\u001b[0;34m(\u001b[0m\u001b[0;34m)\u001b[0m  \u001b[0;31m# pylint: disable=protected-access\u001b[0m\u001b[0;34m\u001b[0m\u001b[0;34m\u001b[0m\u001b[0m\n\u001b[1;32m   1169\u001b[0m     \u001b[0;32mreturn\u001b[0m \u001b[0mconcrete\u001b[0m\u001b[0;34m\u001b[0m\u001b[0;34m\u001b[0m\u001b[0m\n",
      "\u001b[0;32m~/.local/lib/python3.8/site-packages/tensorflow/python/eager/def_function.py\u001b[0m in \u001b[0;36m_get_concrete_function_garbage_collected\u001b[0;34m(self, *args, **kwargs)\u001b[0m\n\u001b[1;32m   1071\u001b[0m       \u001b[0;32mif\u001b[0m \u001b[0mself\u001b[0m\u001b[0;34m.\u001b[0m\u001b[0m_stateful_fn\u001b[0m \u001b[0;32mis\u001b[0m \u001b[0;32mNone\u001b[0m\u001b[0;34m:\u001b[0m\u001b[0;34m\u001b[0m\u001b[0;34m\u001b[0m\u001b[0m\n\u001b[1;32m   1072\u001b[0m         \u001b[0minitializers\u001b[0m \u001b[0;34m=\u001b[0m \u001b[0;34m[\u001b[0m\u001b[0;34m]\u001b[0m\u001b[0;34m\u001b[0m\u001b[0;34m\u001b[0m\u001b[0m\n\u001b[0;32m-> 1073\u001b[0;31m         \u001b[0mself\u001b[0m\u001b[0;34m.\u001b[0m\u001b[0m_initialize\u001b[0m\u001b[0;34m(\u001b[0m\u001b[0margs\u001b[0m\u001b[0;34m,\u001b[0m \u001b[0mkwargs\u001b[0m\u001b[0;34m,\u001b[0m \u001b[0madd_initializers_to\u001b[0m\u001b[0;34m=\u001b[0m\u001b[0minitializers\u001b[0m\u001b[0;34m)\u001b[0m\u001b[0;34m\u001b[0m\u001b[0;34m\u001b[0m\u001b[0m\n\u001b[0m\u001b[1;32m   1074\u001b[0m         \u001b[0mself\u001b[0m\u001b[0;34m.\u001b[0m\u001b[0m_initialize_uninitialized_variables\u001b[0m\u001b[0;34m(\u001b[0m\u001b[0minitializers\u001b[0m\u001b[0;34m)\u001b[0m\u001b[0;34m\u001b[0m\u001b[0;34m\u001b[0m\u001b[0m\n\u001b[1;32m   1075\u001b[0m \u001b[0;34m\u001b[0m\u001b[0m\n",
      "\u001b[0;32m~/.local/lib/python3.8/site-packages/tensorflow/python/eager/def_function.py\u001b[0m in \u001b[0;36m_initialize\u001b[0;34m(self, args, kwds, add_initializers_to)\u001b[0m\n\u001b[1;32m    694\u001b[0m     \u001b[0mself\u001b[0m\u001b[0;34m.\u001b[0m\u001b[0m_graph_deleter\u001b[0m \u001b[0;34m=\u001b[0m \u001b[0mFunctionDeleter\u001b[0m\u001b[0;34m(\u001b[0m\u001b[0mself\u001b[0m\u001b[0;34m.\u001b[0m\u001b[0m_lifted_initializer_graph\u001b[0m\u001b[0;34m)\u001b[0m\u001b[0;34m\u001b[0m\u001b[0;34m\u001b[0m\u001b[0m\n\u001b[1;32m    695\u001b[0m     self._concrete_stateful_fn = (\n\u001b[0;32m--> 696\u001b[0;31m         self._stateful_fn._get_concrete_function_internal_garbage_collected(  # pylint: disable=protected-access\n\u001b[0m\u001b[1;32m    697\u001b[0m             *args, **kwds))\n\u001b[1;32m    698\u001b[0m \u001b[0;34m\u001b[0m\u001b[0m\n",
      "\u001b[0;32m~/.local/lib/python3.8/site-packages/tensorflow/python/eager/function.py\u001b[0m in \u001b[0;36m_get_concrete_function_internal_garbage_collected\u001b[0;34m(self, *args, **kwargs)\u001b[0m\n\u001b[1;32m   2853\u001b[0m       \u001b[0margs\u001b[0m\u001b[0;34m,\u001b[0m \u001b[0mkwargs\u001b[0m \u001b[0;34m=\u001b[0m \u001b[0;32mNone\u001b[0m\u001b[0;34m,\u001b[0m \u001b[0;32mNone\u001b[0m\u001b[0;34m\u001b[0m\u001b[0;34m\u001b[0m\u001b[0m\n\u001b[1;32m   2854\u001b[0m     \u001b[0;32mwith\u001b[0m \u001b[0mself\u001b[0m\u001b[0;34m.\u001b[0m\u001b[0m_lock\u001b[0m\u001b[0;34m:\u001b[0m\u001b[0;34m\u001b[0m\u001b[0;34m\u001b[0m\u001b[0m\n\u001b[0;32m-> 2855\u001b[0;31m       \u001b[0mgraph_function\u001b[0m\u001b[0;34m,\u001b[0m \u001b[0m_\u001b[0m\u001b[0;34m,\u001b[0m \u001b[0m_\u001b[0m \u001b[0;34m=\u001b[0m \u001b[0mself\u001b[0m\u001b[0;34m.\u001b[0m\u001b[0m_maybe_define_function\u001b[0m\u001b[0;34m(\u001b[0m\u001b[0margs\u001b[0m\u001b[0;34m,\u001b[0m \u001b[0mkwargs\u001b[0m\u001b[0;34m)\u001b[0m\u001b[0;34m\u001b[0m\u001b[0;34m\u001b[0m\u001b[0m\n\u001b[0m\u001b[1;32m   2856\u001b[0m     \u001b[0;32mreturn\u001b[0m \u001b[0mgraph_function\u001b[0m\u001b[0;34m\u001b[0m\u001b[0;34m\u001b[0m\u001b[0m\n\u001b[1;32m   2857\u001b[0m \u001b[0;34m\u001b[0m\u001b[0m\n",
      "\u001b[0;32m~/.local/lib/python3.8/site-packages/tensorflow/python/eager/function.py\u001b[0m in \u001b[0;36m_maybe_define_function\u001b[0;34m(self, args, kwargs)\u001b[0m\n\u001b[1;32m   3211\u001b[0m \u001b[0;34m\u001b[0m\u001b[0m\n\u001b[1;32m   3212\u001b[0m       \u001b[0mself\u001b[0m\u001b[0;34m.\u001b[0m\u001b[0m_function_cache\u001b[0m\u001b[0;34m.\u001b[0m\u001b[0mmissed\u001b[0m\u001b[0;34m.\u001b[0m\u001b[0madd\u001b[0m\u001b[0;34m(\u001b[0m\u001b[0mcall_context_key\u001b[0m\u001b[0;34m)\u001b[0m\u001b[0;34m\u001b[0m\u001b[0;34m\u001b[0m\u001b[0m\n\u001b[0;32m-> 3213\u001b[0;31m       \u001b[0mgraph_function\u001b[0m \u001b[0;34m=\u001b[0m \u001b[0mself\u001b[0m\u001b[0;34m.\u001b[0m\u001b[0m_create_graph_function\u001b[0m\u001b[0;34m(\u001b[0m\u001b[0margs\u001b[0m\u001b[0;34m,\u001b[0m \u001b[0mkwargs\u001b[0m\u001b[0;34m)\u001b[0m\u001b[0;34m\u001b[0m\u001b[0;34m\u001b[0m\u001b[0m\n\u001b[0m\u001b[1;32m   3214\u001b[0m       \u001b[0mself\u001b[0m\u001b[0;34m.\u001b[0m\u001b[0m_function_cache\u001b[0m\u001b[0;34m.\u001b[0m\u001b[0mprimary\u001b[0m\u001b[0;34m[\u001b[0m\u001b[0mcache_key\u001b[0m\u001b[0;34m]\u001b[0m \u001b[0;34m=\u001b[0m \u001b[0mgraph_function\u001b[0m\u001b[0;34m\u001b[0m\u001b[0;34m\u001b[0m\u001b[0m\n\u001b[1;32m   3215\u001b[0m       \u001b[0;32mreturn\u001b[0m \u001b[0mgraph_function\u001b[0m\u001b[0;34m,\u001b[0m \u001b[0margs\u001b[0m\u001b[0;34m,\u001b[0m \u001b[0mkwargs\u001b[0m\u001b[0;34m\u001b[0m\u001b[0;34m\u001b[0m\u001b[0m\n",
      "\u001b[0;32m~/.local/lib/python3.8/site-packages/tensorflow/python/eager/function.py\u001b[0m in \u001b[0;36m_create_graph_function\u001b[0;34m(self, args, kwargs, override_flat_arg_shapes)\u001b[0m\n\u001b[1;32m   3063\u001b[0m     \u001b[0marg_names\u001b[0m \u001b[0;34m=\u001b[0m \u001b[0mbase_arg_names\u001b[0m \u001b[0;34m+\u001b[0m \u001b[0mmissing_arg_names\u001b[0m\u001b[0;34m\u001b[0m\u001b[0;34m\u001b[0m\u001b[0m\n\u001b[1;32m   3064\u001b[0m     graph_function = ConcreteFunction(\n\u001b[0;32m-> 3065\u001b[0;31m         func_graph_module.func_graph_from_py_func(\n\u001b[0m\u001b[1;32m   3066\u001b[0m             \u001b[0mself\u001b[0m\u001b[0;34m.\u001b[0m\u001b[0m_name\u001b[0m\u001b[0;34m,\u001b[0m\u001b[0;34m\u001b[0m\u001b[0;34m\u001b[0m\u001b[0m\n\u001b[1;32m   3067\u001b[0m             \u001b[0mself\u001b[0m\u001b[0;34m.\u001b[0m\u001b[0m_python_function\u001b[0m\u001b[0;34m,\u001b[0m\u001b[0;34m\u001b[0m\u001b[0;34m\u001b[0m\u001b[0m\n",
      "\u001b[0;32m~/.local/lib/python3.8/site-packages/tensorflow/python/framework/func_graph.py\u001b[0m in \u001b[0;36mfunc_graph_from_py_func\u001b[0;34m(name, python_func, args, kwargs, signature, func_graph, autograph, autograph_options, add_control_dependencies, arg_names, op_return_value, collections, capture_by_value, override_flat_arg_shapes)\u001b[0m\n\u001b[1;32m    984\u001b[0m         \u001b[0m_\u001b[0m\u001b[0;34m,\u001b[0m \u001b[0moriginal_func\u001b[0m \u001b[0;34m=\u001b[0m \u001b[0mtf_decorator\u001b[0m\u001b[0;34m.\u001b[0m\u001b[0munwrap\u001b[0m\u001b[0;34m(\u001b[0m\u001b[0mpython_func\u001b[0m\u001b[0;34m)\u001b[0m\u001b[0;34m\u001b[0m\u001b[0;34m\u001b[0m\u001b[0m\n\u001b[1;32m    985\u001b[0m \u001b[0;34m\u001b[0m\u001b[0m\n\u001b[0;32m--> 986\u001b[0;31m       \u001b[0mfunc_outputs\u001b[0m \u001b[0;34m=\u001b[0m \u001b[0mpython_func\u001b[0m\u001b[0;34m(\u001b[0m\u001b[0;34m*\u001b[0m\u001b[0mfunc_args\u001b[0m\u001b[0;34m,\u001b[0m \u001b[0;34m**\u001b[0m\u001b[0mfunc_kwargs\u001b[0m\u001b[0;34m)\u001b[0m\u001b[0;34m\u001b[0m\u001b[0;34m\u001b[0m\u001b[0m\n\u001b[0m\u001b[1;32m    987\u001b[0m \u001b[0;34m\u001b[0m\u001b[0m\n\u001b[1;32m    988\u001b[0m       \u001b[0;31m# invariant: `func_outputs` contains only Tensors, CompositeTensors,\u001b[0m\u001b[0;34m\u001b[0m\u001b[0;34m\u001b[0m\u001b[0;34m\u001b[0m\u001b[0m\n",
      "\u001b[0;32m~/.local/lib/python3.8/site-packages/tensorflow/python/eager/def_function.py\u001b[0m in \u001b[0;36mwrapped_fn\u001b[0;34m(*args, **kwds)\u001b[0m\n\u001b[1;32m    598\u001b[0m         \u001b[0;31m# __wrapped__ allows AutoGraph to swap in a converted function. We give\u001b[0m\u001b[0;34m\u001b[0m\u001b[0;34m\u001b[0m\u001b[0;34m\u001b[0m\u001b[0m\n\u001b[1;32m    599\u001b[0m         \u001b[0;31m# the function a weak reference to itself to avoid a reference cycle.\u001b[0m\u001b[0;34m\u001b[0m\u001b[0;34m\u001b[0m\u001b[0;34m\u001b[0m\u001b[0m\n\u001b[0;32m--> 600\u001b[0;31m         \u001b[0;32mreturn\u001b[0m \u001b[0mweak_wrapped_fn\u001b[0m\u001b[0;34m(\u001b[0m\u001b[0;34m)\u001b[0m\u001b[0;34m.\u001b[0m\u001b[0m__wrapped__\u001b[0m\u001b[0;34m(\u001b[0m\u001b[0;34m*\u001b[0m\u001b[0margs\u001b[0m\u001b[0;34m,\u001b[0m \u001b[0;34m**\u001b[0m\u001b[0mkwds\u001b[0m\u001b[0;34m)\u001b[0m\u001b[0;34m\u001b[0m\u001b[0;34m\u001b[0m\u001b[0m\n\u001b[0m\u001b[1;32m    601\u001b[0m     \u001b[0mweak_wrapped_fn\u001b[0m \u001b[0;34m=\u001b[0m \u001b[0mweakref\u001b[0m\u001b[0;34m.\u001b[0m\u001b[0mref\u001b[0m\u001b[0;34m(\u001b[0m\u001b[0mwrapped_fn\u001b[0m\u001b[0;34m)\u001b[0m\u001b[0;34m\u001b[0m\u001b[0;34m\u001b[0m\u001b[0m\n\u001b[1;32m    602\u001b[0m \u001b[0;34m\u001b[0m\u001b[0m\n",
      "\u001b[0;32m~/.local/lib/python3.8/site-packages/tensorflow/python/framework/func_graph.py\u001b[0m in \u001b[0;36mwrapper\u001b[0;34m(*args, **kwargs)\u001b[0m\n\u001b[1;32m    971\u001b[0m           \u001b[0;32mexcept\u001b[0m \u001b[0mException\u001b[0m \u001b[0;32mas\u001b[0m \u001b[0me\u001b[0m\u001b[0;34m:\u001b[0m  \u001b[0;31m# pylint:disable=broad-except\u001b[0m\u001b[0;34m\u001b[0m\u001b[0;34m\u001b[0m\u001b[0m\n\u001b[1;32m    972\u001b[0m             \u001b[0;32mif\u001b[0m \u001b[0mhasattr\u001b[0m\u001b[0;34m(\u001b[0m\u001b[0me\u001b[0m\u001b[0;34m,\u001b[0m \u001b[0;34m\"ag_error_metadata\"\u001b[0m\u001b[0;34m)\u001b[0m\u001b[0;34m:\u001b[0m\u001b[0;34m\u001b[0m\u001b[0;34m\u001b[0m\u001b[0m\n\u001b[0;32m--> 973\u001b[0;31m               \u001b[0;32mraise\u001b[0m \u001b[0me\u001b[0m\u001b[0;34m.\u001b[0m\u001b[0mag_error_metadata\u001b[0m\u001b[0;34m.\u001b[0m\u001b[0mto_exception\u001b[0m\u001b[0;34m(\u001b[0m\u001b[0me\u001b[0m\u001b[0;34m)\u001b[0m\u001b[0;34m\u001b[0m\u001b[0;34m\u001b[0m\u001b[0m\n\u001b[0m\u001b[1;32m    974\u001b[0m             \u001b[0;32melse\u001b[0m\u001b[0;34m:\u001b[0m\u001b[0;34m\u001b[0m\u001b[0;34m\u001b[0m\u001b[0m\n\u001b[1;32m    975\u001b[0m               \u001b[0;32mraise\u001b[0m\u001b[0;34m\u001b[0m\u001b[0;34m\u001b[0m\u001b[0m\n",
      "\u001b[0;31mValueError\u001b[0m: in user code:\n\n    <ipython-input-57-742b1435b3ff>:1 None  *\n        run_model = tf.function(lambda x: model(x))\n    /home/ade/.local/lib/python3.8/site-packages/tensorflow/python/keras/engine/base_layer.py:975 __call__  **\n        input_spec.assert_input_compatibility(self.input_spec, inputs,\n    /home/ade/.local/lib/python3.8/site-packages/tensorflow/python/keras/engine/input_spec.py:212 assert_input_compatibility\n        raise ValueError(\n\n    ValueError: Input 0 of layer sequential_4 is incompatible with the layer: expected axis -1 of input shape to have value 1 but received input with shape [1, 6]\n"
     ]
    }
   ],
   "source": [
    "run_model = tf.function(lambda x: model(x))\n",
    "# This is important, let's fix the input size.\n",
    "concrete_func = run_model.get_concrete_function(\n",
    "    tf.TensorSpec([1,6], model.inputs[0].dtype))\n",
    "\n",
    "# model directory.\n",
    "MODEL_DIR = \"model\"\n",
    "model.save(MODEL_DIR, save_format=\"tf\", signatures=concrete_func)\n"
   ]
  },
  {
   "cell_type": "code",
   "execution_count": 58,
   "metadata": {},
   "outputs": [
    {
     "name": "stdout",
     "output_type": "stream",
     "text": [
      "WARNING:tensorflow:From /home/ade/.local/lib/python3.8/site-packages/tensorflow/python/training/tracking/tracking.py:111: Model.state_updates (from tensorflow.python.keras.engine.training) is deprecated and will be removed in a future version.\n",
      "Instructions for updating:\n",
      "This property should not be used in TensorFlow 2.0, as updates are applied automatically.\n",
      "WARNING:tensorflow:From /home/ade/.local/lib/python3.8/site-packages/tensorflow/python/training/tracking/tracking.py:111: Layer.updates (from tensorflow.python.keras.engine.base_layer) is deprecated and will be removed in a future version.\n",
      "Instructions for updating:\n",
      "This property should not be used in TensorFlow 2.0, as updates are applied automatically.\n",
      "INFO:tensorflow:Assets written to: model/assets\n"
     ]
    }
   ],
   "source": [
    "MODEL_DIR = \"model\"\n",
    "model.save(MODEL_DIR) "
   ]
  },
  {
   "cell_type": "code",
   "execution_count": 59,
   "metadata": {},
   "outputs": [],
   "source": [
    "converter = tf.lite.TFLiteConverter.from_saved_model(MODEL_DIR)\n",
    "tflite_model = converter.convert()"
   ]
  },
  {
   "cell_type": "code",
   "execution_count": null,
   "metadata": {},
   "outputs": [],
   "source": [
    "# Run the model with TensorFlow to get expected results.\n",
    "TEST_CASES = 10\n",
    "\n",
    "# Run the model with TensorFlow Lite\n",
    "interpreter = tf.lite.Interpreter(model_content=tflite_model)\n",
    "interpreter.allocate_tensors()\n",
    "input_details = interpreter.get_input_details()\n",
    "output_details = interpreter.get_output_details()\n",
    "print(input_details)\n",
    "print(output_details)\n",
    "print(input_details[0][\"index\"])\n",
    "for i in range(TEST_CASES):\n",
    "  expected = model.predict([[i]])\n",
    "  interpreter.set_tensor( input_details[0][\"index\"], np.array([[i]]).astype(np.float32))\n",
    "  interpreter.invoke()\n",
    "  result = interpreter.get_tensor(output_details[0][\"index\"])\n",
    "\n",
    "  # Assert if the result of TFLite model is consistent with the TF model.\n",
    "  np.testing.assert_almost_equal(expected, result)\n",
    "  print(\"Done. The result of TensorFlow matches the result of TensorFlow Lite.\")\n",
    "\n",
    "  # Please note: TfLite fused Lstm kernel is stateful, so we need to reset\n",
    "  # the states.\n",
    "  # Clean up internal states.\n",
    "  interpreter.reset_all_variables()\n"
   ]
  },
  {
   "cell_type": "markdown",
   "metadata": {},
   "source": []
  },
  {
   "cell_type": "code",
   "execution_count": 60,
   "metadata": {},
   "outputs": [
    {
     "data": {
      "text/plain": [
       "23853696"
      ]
     },
     "execution_count": 60,
     "metadata": {},
     "output_type": "execute_result"
    }
   ],
   "source": [
    "open(\"tf_model/converted_model.tflite\", \"wb\").write(tflite_model)"
   ]
  },
  {
   "cell_type": "code",
   "execution_count": null,
   "metadata": {},
   "outputs": [],
   "source": [
    "interpreter.set_tensor( input_details[0][\"index\"], np.array([[sortedClassContents.index(700)]]).astype(np.float32))\n",
    "interpreter.invoke()\n",
    "result = interpreter.get_tensor(output_details[0][\"index\"])\n",
    "print(sortedClassContents[np.argmax(result)])"
   ]
  },
  {
   "cell_type": "code",
   "execution_count": null,
   "metadata": {},
   "outputs": [],
   "source": []
  }
 ],
 "metadata": {
  "kernelspec": {
   "display_name": "Python 3",
   "language": "python",
   "name": "python3"
  },
  "language_info": {
   "codemirror_mode": {
    "name": "ipython",
    "version": 3
   },
   "file_extension": ".py",
   "mimetype": "text/x-python",
   "name": "python",
   "nbconvert_exporter": "python",
   "pygments_lexer": "ipython3",
   "version": "3.8.5"
  }
 },
 "nbformat": 4,
 "nbformat_minor": 4
}
